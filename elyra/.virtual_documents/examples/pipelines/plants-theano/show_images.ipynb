import os
import base64
import matplotlib.pyplot as plt
import io
from PIL import Image


# Define the file paths
input_file_path = os.path.join('output', 'b64', os.environ.get('FILE_INPUT'))
output_dir_path = os.path.join('output', 'images')
output_file_path = os.path.join(output_dir_path, os.environ.get('FILE_OUTPUT'))

# Create the 'images' directory if it doesn't exist
os.makedirs(output_dir_path, exist_ok=True)


with open(input_file_path, 'r') as file:
    lines = file.readlines()


image_data = lines[-1]


image_bytes = base64.b64decode(image_data)


image = Image.open(io.BytesIO(image_bytes))


image.save(output_file_path, 'png')


plt.imshow(image)
plt.show()
