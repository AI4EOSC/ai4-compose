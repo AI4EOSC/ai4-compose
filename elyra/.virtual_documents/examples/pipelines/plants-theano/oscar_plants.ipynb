import os
import json
from oscar_python.client import Client


json_path = os.path.join("./credentials", os.environ.get("JSON_NAME") + ".json")
with open(json_path) as f:
    credentials = json.load(f)


oscar_client = Client(
    id=credentials["ID"],
    endpoint=credentials["ENDPOINT"],
    user=credentials["USER"],
    password=credentials["PASSWORD"],
    ssl=True
)


image_name = os.environ.get("B64_INPUT")
output_file_name = os.getenv("DATA_OUTPUT")
output_file = f"./data/{image_name.rsplit('.', 1)[0]}.txt"

with open(output_file, "r") as txt_file:
    encoded_image = txt_file.read()


try:
    oscar_client.create_service("plant-classification-theano.yaml")
    print("Service created")
except Exception as ex:
    print("Error creating service: ", ex)


response = oscar_client.run_service("plants", input=encoded_image)

# Verify if response is complete
if response.status_code == 200:
    # Process grayify service response
    data = response.text
    #  print("data:", data)
    os.makedirs('./output/b64', exist_ok=True)

    output_file_path = f"./output/b64/{output_file_name}"
    with open(output_file_path, 'w') as f:
        f.write(data)

else:
    print(f"Error in the execution of 'plants' service: {response.status_code} {response.text}")
