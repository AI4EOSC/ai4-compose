import os
import json
from oscar_python.client import Client


json_path = os.path.join("./credentials", os.environ.get("JSON_NAME") + ".json")
with open(json_path) as f:
    credentials = json.load(f)


oscar_client = Client(
    id=credentials["ID"],
    endpoint=credentials["ENDPOINT"],
    user=credentials["USER"],
    password=credentials["PASSWORD"],
    ssl=True
)


text_input = os.environ.get("TEXT_INPUT")
message_dict = {"message": text_input}
message_json = json.dumps(message_dict)


try:
    oscar_client.create_service("cowsay.yaml")
    print("Service created")
except Exception as ex:
    print("Error creating service: ", ex)


response = oscar_client.run_service("cowsay", input=message_json)

if response.status_code == 200:
    cowsay_data = response.text
    print(cowsay_data)


else:
    print(f"Error en la ejecución del servicio 'cowsay': {response.status_code} {response.text}")
