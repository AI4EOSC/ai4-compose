{
 "cells": [
  {
   "cell_type": "markdown",
   "id": "4a582302-1262-4748-9759-3c7dfd9f048f",
   "metadata": {
    "papermill": {
     "duration": 0.001675,
     "end_time": "2023-06-16T09:36:23.038050",
     "exception": false,
     "start_time": "2023-06-16T09:36:23.036375",
     "status": "completed"
    },
    "tags": []
   },
   "source": [
    "# Import libraries"
   ]
  },
  {
   "cell_type": "code",
   "execution_count": 1,
   "id": "263eb0c8-2061-488d-a047-68bdb7afeb7d",
   "metadata": {
    "execution": {
     "iopub.execute_input": "2023-06-16T09:36:23.047946Z",
     "iopub.status.busy": "2023-06-16T09:36:23.047763Z",
     "iopub.status.idle": "2023-06-16T09:36:23.182030Z",
     "shell.execute_reply": "2023-06-16T09:36:23.181653Z"
    },
    "papermill": {
     "duration": 0.137794,
     "end_time": "2023-06-16T09:36:23.183335",
     "exception": false,
     "start_time": "2023-06-16T09:36:23.045541",
     "status": "completed"
    },
    "tags": []
   },
   "outputs": [],
   "source": [
    "import os\n",
    "import json\n",
    "from oscar_python.client import Client"
   ]
  },
  {
   "cell_type": "markdown",
   "id": "ba4bfca4-7937-47e9-ba62-822266f9c651",
   "metadata": {
    "papermill": {
     "duration": 0.007447,
     "end_time": "2023-06-16T09:36:23.192312",
     "exception": false,
     "start_time": "2023-06-16T09:36:23.184865",
     "status": "completed"
    },
    "tags": []
   },
   "source": [
    "# Read credentials"
   ]
  },
  {
   "cell_type": "code",
   "execution_count": 2,
   "id": "7d1fd172-a67d-465a-91ed-c0f5ee7026b7",
   "metadata": {
    "execution": {
     "iopub.execute_input": "2023-06-16T09:36:23.196405Z",
     "iopub.status.busy": "2023-06-16T09:36:23.195906Z",
     "iopub.status.idle": "2023-06-16T09:36:23.198746Z",
     "shell.execute_reply": "2023-06-16T09:36:23.198426Z"
    },
    "papermill": {
     "duration": 0.005831,
     "end_time": "2023-06-16T09:36:23.199734",
     "exception": false,
     "start_time": "2023-06-16T09:36:23.193903",
     "status": "completed"
    },
    "tags": []
   },
   "outputs": [],
   "source": [
    "json_path = os.path.join(\"./credentials\", os.environ.get(\"JSON_NAME\") + \".json\")\n",
    "with open(json_path) as f:\n",
    "    credentials = json.load(f)"
   ]
  },
  {
   "cell_type": "markdown",
   "id": "e4063125-74e9-4d39-b380-f77614a167ce",
   "metadata": {
    "papermill": {
     "duration": 0.00123,
     "end_time": "2023-06-16T09:36:23.202251",
     "exception": false,
     "start_time": "2023-06-16T09:36:23.201021",
     "status": "completed"
    },
    "tags": []
   },
   "source": [
    "# Create OSCAR client with the credentials"
   ]
  },
  {
   "cell_type": "code",
   "execution_count": 3,
   "id": "d4d8b047-6ff0-4c3c-831e-c4753bdd43ea",
   "metadata": {
    "execution": {
     "iopub.execute_input": "2023-06-16T09:36:23.205563Z",
     "iopub.status.busy": "2023-06-16T09:36:23.205280Z",
     "iopub.status.idle": "2023-06-16T09:36:23.207971Z",
     "shell.execute_reply": "2023-06-16T09:36:23.207568Z"
    },
    "papermill": {
     "duration": 0.005486,
     "end_time": "2023-06-16T09:36:23.208941",
     "exception": false,
     "start_time": "2023-06-16T09:36:23.203455",
     "status": "completed"
    },
    "tags": []
   },
   "outputs": [],
   "source": [
    "oscar_client = Client(\n",
    "    id=credentials[\"ID\"],\n",
    "    endpoint=credentials[\"ENDPOINT\"],\n",
    "    user=credentials[\"USER\"],\n",
    "    password=credentials[\"PASSWORD\"],\n",
    "    ssl=True\n",
    ")"
   ]
  },
  {
   "cell_type": "markdown",
   "id": "5394de5b-209d-48d6-8a99-5b52fae82f1d",
   "metadata": {
    "papermill": {
     "duration": 0.001241,
     "end_time": "2023-06-16T09:36:23.211528",
     "exception": false,
     "start_time": "2023-06-16T09:36:23.210287",
     "status": "completed"
    },
    "tags": []
   },
   "source": [
    "# Read text input"
   ]
  },
  {
   "cell_type": "code",
   "execution_count": 4,
   "id": "7810f3a8-2c68-4b0f-8001-b18a2d5a521d",
   "metadata": {
    "execution": {
     "iopub.execute_input": "2023-06-16T09:36:23.214855Z",
     "iopub.status.busy": "2023-06-16T09:36:23.214685Z",
     "iopub.status.idle": "2023-06-16T09:36:23.217042Z",
     "shell.execute_reply": "2023-06-16T09:36:23.216717Z"
    },
    "papermill": {
     "duration": 0.005198,
     "end_time": "2023-06-16T09:36:23.217947",
     "exception": false,
     "start_time": "2023-06-16T09:36:23.212749",
     "status": "completed"
    },
    "tags": []
   },
   "outputs": [],
   "source": [
    "text_input = os.environ.get(\"TEXT_INPUT\")\n",
    "message_dict = {\"message\": text_input}\n",
    "message_json = json.dumps(message_dict)"
   ]
  },
  {
   "cell_type": "markdown",
   "id": "9f10caa6-316a-45aa-8e9b-6a53a0a4dd58",
   "metadata": {
    "papermill": {
     "duration": 0.001222,
     "end_time": "2023-06-16T09:36:23.220489",
     "exception": false,
     "start_time": "2023-06-16T09:36:23.219267",
     "status": "completed"
    },
    "tags": []
   },
   "source": [
    "# Create oscar service: cowsay"
   ]
  },
  {
   "cell_type": "code",
   "execution_count": 5,
   "id": "f6b8bfa3-131f-464c-aeab-47a5d61cc093",
   "metadata": {
    "execution": {
     "iopub.execute_input": "2023-06-16T09:36:23.223811Z",
     "iopub.status.busy": "2023-06-16T09:36:23.223533Z",
     "iopub.status.idle": "2023-06-16T09:36:23.403006Z",
     "shell.execute_reply": "2023-06-16T09:36:23.401715Z"
    },
    "papermill": {
     "duration": 0.183805,
     "end_time": "2023-06-16T09:36:23.405519",
     "exception": false,
     "start_time": "2023-06-16T09:36:23.221714",
     "status": "completed"
    },
    "tags": []
   },
   "outputs": [
    {
     "name": "stdout",
     "output_type": "stream",
     "text": [
      "Error creating service:  A service with name 'cowsay' is already present on the cluster\n"
     ]
    }
   ],
   "source": [
    "try:\n",
    "    oscar_client.create_service(\"cowsay.yaml\")\n",
    "    print(\"Service created\")\n",
    "except Exception as ex:\n",
    "    print(\"Error creating service: \", ex)"
   ]
  },
  {
   "cell_type": "markdown",
   "id": "a54b3732-e2d0-4c66-a089-32328c212207",
   "metadata": {
    "papermill": {
     "duration": 0.007608,
     "end_time": "2023-06-16T09:36:23.417298",
     "exception": false,
     "start_time": "2023-06-16T09:36:23.409690",
     "status": "completed"
    },
    "tags": []
   },
   "source": [
    "# Use the service"
   ]
  },
  {
   "cell_type": "code",
   "execution_count": 6,
   "id": "26494a58-7c32-4020-85d3-bddc5e412fed",
   "metadata": {
    "execution": {
     "iopub.execute_input": "2023-06-16T09:36:23.427243Z",
     "iopub.status.busy": "2023-06-16T09:36:23.426381Z",
     "iopub.status.idle": "2023-06-16T09:36:25.856345Z",
     "shell.execute_reply": "2023-06-16T09:36:25.855420Z"
    },
    "papermill": {
     "duration": 2.437372,
     "end_time": "2023-06-16T09:36:25.858396",
     "exception": false,
     "start_time": "2023-06-16T09:36:23.421024",
     "status": "completed"
    },
    "tags": []
   },
   "outputs": [
    {
     "name": "stdout",
     "output_type": "stream",
     "text": [
      " __________\n",
      "< Hi there >\n",
      " ----------\n",
      "        \\   ^__^\n",
      "         \\  (oo)\\_______\n",
      "            (__)\\       )\\/\\\n",
      "                ||----w |\n",
      "                ||     ||\n",
      "\n",
      "\n"
     ]
    }
   ],
   "source": [
    "response = oscar_client.run_service(\"cowsay\", input=message_json)\n",
    "\n",
    "if response.status_code == 200:\n",
    "    cowsay_data = response.text\n",
    "    print(cowsay_data)\n",
    "\n",
    "\n",
    "else:\n",
    "    print(f\"Error en la ejecución del servicio 'cowsay': {response.status_code} {response.text}\")"
   ]
  }
 ],
 "metadata": {
  "kernelspec": {
   "display_name": "Python 3 (ipykernel)",
   "language": "python",
   "name": "python3"
  },
  "language_info": {
   "codemirror_mode": {
    "name": "ipython",
    "version": 3
   },
   "file_extension": ".py",
   "mimetype": "text/x-python",
   "name": "python",
   "nbconvert_exporter": "python",
   "pygments_lexer": "ipython3",
   "version": "3.10.6"
  },
  "papermill": {
   "default_parameters": {},
   "duration": 3.662162,
   "end_time": "2023-06-16T09:36:26.083262",
   "environment_variables": {},
   "exception": null,
   "input_path": "/home/dieagra/Documents/ai4-compose1/elyra/examples/pipelines/cowsay/oscar_cowsay.ipynb",
   "output_path": "/home/dieagra/Documents/ai4-compose1/elyra/examples/pipelines/cowsay/oscar_cowsay.ipynb",
   "parameters": {},
   "start_time": "2023-06-16T09:36:22.421100",
   "version": "2.4.0"
  }
 },
 "nbformat": 4,
 "nbformat_minor": 5
}
