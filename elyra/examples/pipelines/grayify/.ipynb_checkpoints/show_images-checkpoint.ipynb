{
 "cells": [
  {
   "cell_type": "markdown",
   "id": "44b826b8",
   "metadata": {
    "tags": [
     "papermill-error-cell-tag"
    ]
   },
   "source": [
    "<span style=\"color:red; font-family:Helvetica Neue, Helvetica, Arial, sans-serif; font-size:2em;\">An Exception was encountered at '<a href=\"#papermill-error-cell\">In [2]</a>'.</span>"
   ]
  },
  {
   "cell_type": "code",
   "execution_count": 1,
   "id": "53ad78f3-6373-4b9b-b5d9-da4cf4ffdec2",
   "metadata": {
    "execution": {
     "iopub.execute_input": "2023-06-16T10:39:40.839621Z",
     "iopub.status.busy": "2023-06-16T10:39:40.839172Z",
     "iopub.status.idle": "2023-06-16T10:39:41.138192Z",
     "shell.execute_reply": "2023-06-16T10:39:41.137820Z"
    },
    "papermill": {
     "duration": 0.306962,
     "end_time": "2023-06-16T10:39:41.139387",
     "exception": false,
     "start_time": "2023-06-16T10:39:40.832425",
     "status": "completed"
    },
    "tags": []
   },
   "outputs": [],
   "source": [
    "import os\n",
    "import base64\n",
    "import matplotlib.pyplot as plt\n",
    "import io\n",
    "from PIL import Image"
   ]
  },
  {
   "cell_type": "markdown",
   "id": "a21a70bb-75d9-4aac-a0e4-63a4122063db",
   "metadata": {
    "papermill": {
     "duration": 0.001478,
     "end_time": "2023-06-16T10:39:41.142479",
     "exception": false,
     "start_time": "2023-06-16T10:39:41.141001",
     "status": "completed"
    },
    "tags": []
   },
   "source": [
    "# Define path and name of the files"
   ]
  },
  {
   "cell_type": "markdown",
   "id": "7e7495c1",
   "metadata": {
    "tags": [
     "papermill-error-cell-tag"
    ]
   },
   "source": [
    "<span id=\"papermill-error-cell\" style=\"color:red; font-family:Helvetica Neue, Helvetica, Arial, sans-serif; font-size:2em;\">Execution using papermill encountered an exception here and stopped:</span>"
   ]
  },
  {
   "cell_type": "code",
   "execution_count": 2,
   "id": "155e0f93-55c8-490d-be20-39c12baec0fc",
   "metadata": {
    "execution": {
     "iopub.execute_input": "2023-06-16T10:39:41.146199Z",
     "iopub.status.busy": "2023-06-16T10:39:41.145958Z",
     "iopub.status.idle": "2023-06-16T10:39:41.285541Z",
     "shell.execute_reply": "2023-06-16T10:39:41.284925Z"
    },
    "papermill": {
     "duration": 0.142578,
     "end_time": "2023-06-16T10:39:41.286492",
     "exception": true,
     "start_time": "2023-06-16T10:39:41.143914",
     "status": "failed"
    },
    "tags": []
   },
   "outputs": [
    {
     "ename": "TypeError",
     "evalue": "join() argument must be str, bytes, or os.PathLike object, not 'NoneType'",
     "output_type": "error",
     "traceback": [
      "\u001b[0;31m---------------------------------------------------------------------------\u001b[0m",
      "\u001b[0;31mTypeError\u001b[0m                                 Traceback (most recent call last)",
      "Cell \u001b[0;32mIn[2], line 1\u001b[0m\n\u001b[0;32m----> 1\u001b[0m input_file_path \u001b[38;5;241m=\u001b[39m \u001b[43mos\u001b[49m\u001b[38;5;241;43m.\u001b[39;49m\u001b[43mpath\u001b[49m\u001b[38;5;241;43m.\u001b[39;49m\u001b[43mjoin\u001b[49m\u001b[43m(\u001b[49m\u001b[38;5;124;43m'\u001b[39;49m\u001b[38;5;124;43moutput\u001b[39;49m\u001b[38;5;124;43m'\u001b[39;49m\u001b[43m,\u001b[49m\u001b[43m \u001b[49m\u001b[38;5;124;43m'\u001b[39;49m\u001b[38;5;124;43mb64\u001b[39;49m\u001b[38;5;124;43m'\u001b[39;49m\u001b[43m,\u001b[49m\u001b[43m \u001b[49m\u001b[43mos\u001b[49m\u001b[38;5;241;43m.\u001b[39;49m\u001b[43menviron\u001b[49m\u001b[38;5;241;43m.\u001b[39;49m\u001b[43mget\u001b[49m\u001b[43m(\u001b[49m\u001b[38;5;124;43m'\u001b[39;49m\u001b[38;5;124;43mFILE_INPUT\u001b[39;49m\u001b[38;5;124;43m'\u001b[39;49m\u001b[43m)\u001b[49m\u001b[43m)\u001b[49m\n\u001b[1;32m      2\u001b[0m output_file_path \u001b[38;5;241m=\u001b[39m os\u001b[38;5;241m.\u001b[39mpath\u001b[38;5;241m.\u001b[39mjoin(\u001b[38;5;124m'\u001b[39m\u001b[38;5;124moutput\u001b[39m\u001b[38;5;124m'\u001b[39m, \u001b[38;5;124m'\u001b[39m\u001b[38;5;124mimages\u001b[39m\u001b[38;5;124m'\u001b[39m, os\u001b[38;5;241m.\u001b[39menviron\u001b[38;5;241m.\u001b[39mget(\u001b[38;5;124m'\u001b[39m\u001b[38;5;124mFILE_OUTPUT\u001b[39m\u001b[38;5;124m'\u001b[39m))\n",
      "File \u001b[0;32m/usr/lib/python3.10/posixpath.py:90\u001b[0m, in \u001b[0;36mjoin\u001b[0;34m(a, *p)\u001b[0m\n\u001b[1;32m     88\u001b[0m             path \u001b[38;5;241m+\u001b[39m\u001b[38;5;241m=\u001b[39m sep \u001b[38;5;241m+\u001b[39m b\n\u001b[1;32m     89\u001b[0m \u001b[38;5;28;01mexcept\u001b[39;00m (\u001b[38;5;167;01mTypeError\u001b[39;00m, \u001b[38;5;167;01mAttributeError\u001b[39;00m, \u001b[38;5;167;01mBytesWarning\u001b[39;00m):\n\u001b[0;32m---> 90\u001b[0m     \u001b[43mgenericpath\u001b[49m\u001b[38;5;241;43m.\u001b[39;49m\u001b[43m_check_arg_types\u001b[49m\u001b[43m(\u001b[49m\u001b[38;5;124;43m'\u001b[39;49m\u001b[38;5;124;43mjoin\u001b[39;49m\u001b[38;5;124;43m'\u001b[39;49m\u001b[43m,\u001b[49m\u001b[43m \u001b[49m\u001b[43ma\u001b[49m\u001b[43m,\u001b[49m\u001b[43m \u001b[49m\u001b[38;5;241;43m*\u001b[39;49m\u001b[43mp\u001b[49m\u001b[43m)\u001b[49m\n\u001b[1;32m     91\u001b[0m     \u001b[38;5;28;01mraise\u001b[39;00m\n\u001b[1;32m     92\u001b[0m \u001b[38;5;28;01mreturn\u001b[39;00m path\n",
      "File \u001b[0;32m/usr/lib/python3.10/genericpath.py:152\u001b[0m, in \u001b[0;36m_check_arg_types\u001b[0;34m(funcname, *args)\u001b[0m\n\u001b[1;32m    150\u001b[0m         hasbytes \u001b[38;5;241m=\u001b[39m \u001b[38;5;28;01mTrue\u001b[39;00m\n\u001b[1;32m    151\u001b[0m     \u001b[38;5;28;01melse\u001b[39;00m:\n\u001b[0;32m--> 152\u001b[0m         \u001b[38;5;28;01mraise\u001b[39;00m \u001b[38;5;167;01mTypeError\u001b[39;00m(\u001b[38;5;124mf\u001b[39m\u001b[38;5;124m'\u001b[39m\u001b[38;5;132;01m{\u001b[39;00mfuncname\u001b[38;5;132;01m}\u001b[39;00m\u001b[38;5;124m() argument must be str, bytes, or \u001b[39m\u001b[38;5;124m'\u001b[39m\n\u001b[1;32m    153\u001b[0m                         \u001b[38;5;124mf\u001b[39m\u001b[38;5;124m'\u001b[39m\u001b[38;5;124mos.PathLike object, not \u001b[39m\u001b[38;5;132;01m{\u001b[39;00ms\u001b[38;5;241m.\u001b[39m\u001b[38;5;18m__class__\u001b[39m\u001b[38;5;241m.\u001b[39m\u001b[38;5;18m__name__\u001b[39m\u001b[38;5;132;01m!r}\u001b[39;00m\u001b[38;5;124m'\u001b[39m) \u001b[38;5;28;01mfrom\u001b[39;00m \u001b[38;5;28mNone\u001b[39m\n\u001b[1;32m    154\u001b[0m \u001b[38;5;28;01mif\u001b[39;00m hasstr \u001b[38;5;129;01mand\u001b[39;00m hasbytes:\n\u001b[1;32m    155\u001b[0m     \u001b[38;5;28;01mraise\u001b[39;00m \u001b[38;5;167;01mTypeError\u001b[39;00m(\u001b[38;5;124m\"\u001b[39m\u001b[38;5;124mCan\u001b[39m\u001b[38;5;124m'\u001b[39m\u001b[38;5;124mt mix strings and bytes in path components\u001b[39m\u001b[38;5;124m\"\u001b[39m) \u001b[38;5;28;01mfrom\u001b[39;00m \u001b[38;5;28mNone\u001b[39m\n",
      "\u001b[0;31mTypeError\u001b[0m: join() argument must be str, bytes, or os.PathLike object, not 'NoneType'"
     ]
    }
   ],
   "source": [
    "# Define the file paths\n",
    "input_file_path = os.path.join('output', 'b64', os.environ.get('FILE_INPUT'))\n",
    "output_dir_path = os.path.join('output', 'images')\n",
    "output_file_path = os.path.join(output_dir_path, os.environ.get('FILE_OUTPUT'))\n",
    "\n",
    "# Create the 'images' directory if it doesn't exist\n",
    "os.makedirs(output_dir_path, exist_ok=True)"
   ]
  },
  {
   "cell_type": "markdown",
   "id": "992e358c-af7d-4506-9724-37fa543ab92e",
   "metadata": {
    "papermill": {
     "duration": null,
     "end_time": null,
     "exception": null,
     "start_time": null,
     "status": "pending"
    },
    "tags": []
   },
   "source": [
    "# Read the file text"
   ]
  },
  {
   "cell_type": "code",
   "execution_count": null,
   "id": "bc41aaba-6fab-4d52-8cf2-285e899a5f40",
   "metadata": {
    "execution": {
     "iopub.execute_input": "2023-05-22T10:37:30.173552Z",
     "iopub.status.busy": "2023-05-22T10:37:30.173388Z",
     "iopub.status.idle": "2023-05-22T10:37:30.185780Z",
     "shell.execute_reply": "2023-05-22T10:37:30.185264Z"
    },
    "papermill": {
     "duration": null,
     "end_time": null,
     "exception": null,
     "start_time": null,
     "status": "pending"
    },
    "tags": []
   },
   "outputs": [],
   "source": [
    "with open(input_file_path, 'r') as file:\n",
    "    lines = file.readlines()"
   ]
  },
  {
   "cell_type": "markdown",
   "id": "08b8b065-f200-4d64-874b-498ba4b6a2bf",
   "metadata": {
    "papermill": {
     "duration": null,
     "end_time": null,
     "exception": null,
     "start_time": null,
     "status": "pending"
    },
    "tags": []
   },
   "source": [
    "# Obtain the last lane that contains the base64 coded image"
   ]
  },
  {
   "cell_type": "code",
   "execution_count": null,
   "id": "ca9df276-490f-42ad-bbed-9d8ac3b7212a",
   "metadata": {
    "execution": {
     "iopub.execute_input": "2023-05-22T10:37:30.196136Z",
     "iopub.status.busy": "2023-05-22T10:37:30.195957Z",
     "iopub.status.idle": "2023-05-22T10:37:30.198488Z",
     "shell.execute_reply": "2023-05-22T10:37:30.198032Z"
    },
    "papermill": {
     "duration": null,
     "end_time": null,
     "exception": null,
     "start_time": null,
     "status": "pending"
    },
    "tags": []
   },
   "outputs": [],
   "source": [
    "image_data = lines[-1]"
   ]
  },
  {
   "cell_type": "markdown",
   "id": "be3fd5fd-a7d3-4cce-9646-d2a87e126c69",
   "metadata": {
    "papermill": {
     "duration": null,
     "end_time": null,
     "exception": null,
     "start_time": null,
     "status": "pending"
    },
    "tags": []
   },
   "source": [
    "# Decode image from base64"
   ]
  },
  {
   "cell_type": "code",
   "execution_count": null,
   "id": "1ffc6c0e-499f-43cb-8e0b-2ca07836343e",
   "metadata": {
    "execution": {
     "iopub.execute_input": "2023-05-22T10:37:30.207655Z",
     "iopub.status.busy": "2023-05-22T10:37:30.207480Z",
     "iopub.status.idle": "2023-05-22T10:37:30.209829Z",
     "shell.execute_reply": "2023-05-22T10:37:30.209477Z"
    },
    "papermill": {
     "duration": null,
     "end_time": null,
     "exception": null,
     "start_time": null,
     "status": "pending"
    },
    "tags": []
   },
   "outputs": [],
   "source": [
    "image_bytes = base64.b64decode(image_data)"
   ]
  },
  {
   "cell_type": "markdown",
   "id": "022433ea-c609-42a8-b784-96ba921a3786",
   "metadata": {
    "papermill": {
     "duration": null,
     "end_time": null,
     "exception": null,
     "start_time": null,
     "status": "pending"
    },
    "tags": []
   },
   "source": [
    "# Create a PIL image from bytes"
   ]
  },
  {
   "cell_type": "code",
   "execution_count": null,
   "id": "2403bb2a-8184-4240-887a-a451a32177e0",
   "metadata": {
    "execution": {
     "iopub.execute_input": "2023-05-22T10:37:30.218901Z",
     "iopub.status.busy": "2023-05-22T10:37:30.218675Z",
     "iopub.status.idle": "2023-05-22T10:37:30.225161Z",
     "shell.execute_reply": "2023-05-22T10:37:30.224765Z"
    },
    "papermill": {
     "duration": null,
     "end_time": null,
     "exception": null,
     "start_time": null,
     "status": "pending"
    },
    "tags": []
   },
   "outputs": [],
   "source": [
    "image = Image.open(io.BytesIO(image_bytes))"
   ]
  },
  {
   "cell_type": "markdown",
   "id": "9a7e3794-1f50-4699-bafe-dedd60972f67",
   "metadata": {
    "papermill": {
     "duration": null,
     "end_time": null,
     "exception": null,
     "start_time": null,
     "status": "pending"
    },
    "tags": []
   },
   "source": [
    "# Save image as a png"
   ]
  },
  {
   "cell_type": "code",
   "execution_count": null,
   "id": "14e377af-911d-4f59-8521-1d800af4c99a",
   "metadata": {
    "execution": {
     "iopub.execute_input": "2023-05-22T10:37:30.234147Z",
     "iopub.status.busy": "2023-05-22T10:37:30.233930Z",
     "iopub.status.idle": "2023-05-22T10:37:30.271970Z",
     "shell.execute_reply": "2023-05-22T10:37:30.271496Z"
    },
    "papermill": {
     "duration": null,
     "end_time": null,
     "exception": null,
     "start_time": null,
     "status": "pending"
    },
    "tags": []
   },
   "outputs": [],
   "source": [
    "image.save(output_file_path, 'png')"
   ]
  },
  {
   "cell_type": "markdown",
   "id": "e8721f36-98d7-4779-8143-2529c99411d7",
   "metadata": {
    "papermill": {
     "duration": null,
     "end_time": null,
     "exception": null,
     "start_time": null,
     "status": "pending"
    },
    "tags": []
   },
   "source": [
    "# Display image"
   ]
  },
  {
   "cell_type": "code",
   "execution_count": null,
   "id": "b8f895a5-a459-4dbf-bb7d-d9c9e36dead6",
   "metadata": {
    "execution": {
     "iopub.execute_input": "2023-05-22T10:37:30.280023Z",
     "iopub.status.busy": "2023-05-22T10:37:30.279851Z",
     "iopub.status.idle": "2023-05-22T10:37:30.448203Z",
     "shell.execute_reply": "2023-05-22T10:37:30.447810Z"
    },
    "papermill": {
     "duration": null,
     "end_time": null,
     "exception": null,
     "start_time": null,
     "status": "pending"
    },
    "tags": []
   },
   "outputs": [],
   "source": [
    "plt.imshow(image)\n",
    "plt.show()"
   ]
  }
 ],
 "metadata": {
  "kernelspec": {
   "display_name": "Python 3 (ipykernel)",
   "language": "python",
   "name": "python3"
  },
  "language_info": {
   "codemirror_mode": {
    "name": "ipython",
    "version": 3
   },
   "file_extension": ".py",
   "mimetype": "text/x-python",
   "name": "python",
   "nbconvert_exporter": "python",
   "pygments_lexer": "ipython3",
   "version": "3.10.6"
  },
  "papermill": {
   "default_parameters": {},
   "duration": 1.214213,
   "end_time": "2023-06-16T10:39:41.504843",
   "environment_variables": {},
   "exception": true,
   "input_path": "/home/dieagra/Documents/ai4-compose1/elyra/examples/pipelines/grayify/show_images.ipynb",
   "output_path": "/home/dieagra/Documents/ai4-compose1/elyra/examples/pipelines/grayify/show_images.ipynb",
   "parameters": {},
   "start_time": "2023-06-16T10:39:40.290630",
   "version": "2.4.0"
  }
 },
 "nbformat": 4,
 "nbformat_minor": 5
}
