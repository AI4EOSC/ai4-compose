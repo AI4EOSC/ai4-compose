{
 "cells": [
  {
   "cell_type": "markdown",
   "id": "4a582302-1262-4748-9759-3c7dfd9f048f",
   "metadata": {
    "papermill": {
     "duration": 0.004022,
     "end_time": "2023-05-03T09:58:10.253900",
     "exception": false,
     "start_time": "2023-05-03T09:58:10.249878",
     "status": "completed"
    },
    "tags": []
   },
   "source": [
    "# Importar Librerías"
   ]
  },
  {
   "cell_type": "code",
   "execution_count": 1,
   "id": "263eb0c8-2061-488d-a047-68bdb7afeb7d",
   "metadata": {
    "execution": {
     "iopub.execute_input": "2023-05-03T09:58:10.267233Z",
     "iopub.status.busy": "2023-05-03T09:58:10.266815Z",
     "iopub.status.idle": "2023-05-03T09:58:10.411114Z",
     "shell.execute_reply": "2023-05-03T09:58:10.410645Z"
    },
    "papermill": {
     "duration": 0.150793,
     "end_time": "2023-05-03T09:58:10.412482",
     "exception": false,
     "start_time": "2023-05-03T09:58:10.261689",
     "status": "completed"
    },
    "tags": []
   },
   "outputs": [],
   "source": [
    "import os\n",
    "import json\n",
    "from oscar_python.client import Client"
   ]
  },
  {
   "cell_type": "markdown",
   "id": "ba4bfca4-7937-47e9-ba62-822266f9c651",
   "metadata": {
    "papermill": {
     "duration": 0.007467,
     "end_time": "2023-05-03T09:58:10.421347",
     "exception": false,
     "start_time": "2023-05-03T09:58:10.413880",
     "status": "completed"
    },
    "tags": []
   },
   "source": [
    "# Leer el archivo credentials.json"
   ]
  },
  {
   "cell_type": "code",
   "execution_count": 2,
   "id": "7d1fd172-a67d-465a-91ed-c0f5ee7026b7",
   "metadata": {
    "execution": {
     "iopub.execute_input": "2023-05-03T09:58:10.425144Z",
     "iopub.status.busy": "2023-05-03T09:58:10.424668Z",
     "iopub.status.idle": "2023-05-03T09:58:10.427681Z",
     "shell.execute_reply": "2023-05-03T09:58:10.427287Z"
    },
    "papermill": {
     "duration": 0.006039,
     "end_time": "2023-05-03T09:58:10.428785",
     "exception": false,
     "start_time": "2023-05-03T09:58:10.422746",
     "status": "completed"
    },
    "tags": []
   },
   "outputs": [],
   "source": [
    "json_path = os.path.join(\"../input/credentials\", os.environ.get(\"JSON_NAME\") + \".json\")\n",
    "with open(json_path) as f:\n",
    "    credentials = json.load(f)\n"
   ]
  },
  {
   "cell_type": "markdown",
   "id": "e4063125-74e9-4d39-b380-f77614a167ce",
   "metadata": {
    "papermill": {
     "duration": 0.001597,
     "end_time": "2023-05-03T09:58:10.431784",
     "exception": false,
     "start_time": "2023-05-03T09:58:10.430187",
     "status": "completed"
    },
    "tags": []
   },
   "source": [
    "# Crear cliente OSCAR"
   ]
  },
  {
   "cell_type": "code",
   "execution_count": 3,
   "id": "d4d8b047-6ff0-4c3c-831e-c4753bdd43ea",
   "metadata": {
    "execution": {
     "iopub.execute_input": "2023-05-03T09:58:10.435673Z",
     "iopub.status.busy": "2023-05-03T09:58:10.435486Z",
     "iopub.status.idle": "2023-05-03T09:58:10.438320Z",
     "shell.execute_reply": "2023-05-03T09:58:10.437770Z"
    },
    "papermill": {
     "duration": 0.006317,
     "end_time": "2023-05-03T09:58:10.439747",
     "exception": false,
     "start_time": "2023-05-03T09:58:10.433430",
     "status": "completed"
    },
    "tags": []
   },
   "outputs": [],
   "source": [
    "oscar_client = Client(\n",
    "    id=credentials[\"ID\"],\n",
    "    endpoint=credentials[\"ENDPOINT\"],\n",
    "    user=credentials[\"USER\"],\n",
    "    password=credentials[\"PASSWORD\"],\n",
    "    ssl=credentials[\"SSL\"]\n",
    ")"
   ]
  },
  {
   "cell_type": "markdown",
   "id": "5394de5b-209d-48d6-8a99-5b52fae82f1d",
   "metadata": {
    "papermill": {
     "duration": 0.001199,
     "end_time": "2023-05-03T09:58:10.442554",
     "exception": false,
     "start_time": "2023-05-03T09:58:10.441355",
     "status": "completed"
    },
    "tags": []
   },
   "source": [
    "# Leer el archivo de texto con la imagen en base64"
   ]
  },
  {
   "cell_type": "code",
   "execution_count": 4,
   "id": "7810f3a8-2c68-4b0f-8001-b18a2d5a521d",
   "metadata": {
    "execution": {
     "iopub.execute_input": "2023-05-03T09:58:10.446429Z",
     "iopub.status.busy": "2023-05-03T09:58:10.445943Z",
     "iopub.status.idle": "2023-05-03T09:58:10.449176Z",
     "shell.execute_reply": "2023-05-03T09:58:10.448696Z"
    },
    "papermill": {
     "duration": 0.006335,
     "end_time": "2023-05-03T09:58:10.450044",
     "exception": false,
     "start_time": "2023-05-03T09:58:10.443709",
     "status": "completed"
    },
    "tags": []
   },
   "outputs": [],
   "source": [
    "image_name = os.environ.get(\"B64_IMAGE\")\n",
    "output_file_name = os.getenv(\"DATA_OUTPUT\")\n",
    "output_file = f\"../input/data/{image_name.rsplit('.', 1)[0]}.txt\"\n",
    "\n",
    "with open(output_file, \"r\") as txt_file:\n",
    "    encoded_image = txt_file.read()"
   ]
  },
  {
   "cell_type": "markdown",
   "id": "9f10caa6-316a-45aa-8e9b-6a53a0a4dd58",
   "metadata": {
    "papermill": {
     "duration": 0.001516,
     "end_time": "2023-05-03T09:58:10.453133",
     "exception": false,
     "start_time": "2023-05-03T09:58:10.451617",
     "status": "completed"
    },
    "tags": []
   },
   "source": [
    "# Invoco el Servicio \"plants\""
   ]
  },
  {
   "cell_type": "code",
   "execution_count": 5,
   "id": "26494a58-7c32-4020-85d3-bddc5e412fed",
   "metadata": {
    "execution": {
     "iopub.execute_input": "2023-05-03T09:58:10.457320Z",
     "iopub.status.busy": "2023-05-03T09:58:10.456974Z",
     "iopub.status.idle": "2023-05-03T09:58:43.352811Z",
     "shell.execute_reply": "2023-05-03T09:58:43.351825Z"
    },
    "papermill": {
     "duration": 32.901087,
     "end_time": "2023-05-03T09:58:43.355601",
     "exception": false,
     "start_time": "2023-05-03T09:58:10.454514",
     "status": "completed"
    },
    "tags": []
   },
   "outputs": [
    {
     "name": "stderr",
     "output_type": "stream",
     "text": [
      "/usr/lib/python3/dist-packages/urllib3/connectionpool.py:1015: InsecureRequestWarning: Unverified HTTPS request is being made to host 'angry-wozniak3.im.grycap.net'. Adding certificate verification is strongly advised. See: https://urllib3.readthedocs.io/en/latest/advanced-usage.html#ssl-warnings\n",
      "  warnings.warn(\n",
      "/usr/lib/python3/dist-packages/urllib3/connectionpool.py:1015: InsecureRequestWarning: Unverified HTTPS request is being made to host 'angry-wozniak3.im.grycap.net'. Adding certificate verification is strongly advised. See: https://urllib3.readthedocs.io/en/latest/advanced-usage.html#ssl-warnings\n",
      "  warnings.warn(\n"
     ]
    }
   ],
   "source": [
    "response = oscar_client.run_service(\"plants\", input=encoded_image)\n",
    "\n",
    "# Verificar si la respuesta es exitosa\n",
    "if response.status_code == 200:\n",
    "    # Procesar la respuesta del servicio \"plants\"\n",
    "    plants_data = response.text\n",
    "    #  print(\"Datos de las plantas:\", plants_data)\n",
    "    os.makedirs('../output/text', exist_ok=True)\n",
    "\n",
    "    output_file_path = f\"../output/text/{output_file_name}\"\n",
    "    with open(output_file_path, 'w') as f:\n",
    "        f.write(plants_data)\n",
    "\n",
    "else:\n",
    "    print(f\"Error en la ejecución del servicio 'plants': {response.status_code} {response.text}\")"
   ]
  }
 ],
 "metadata": {
  "kernelspec": {
   "display_name": "Python 3 (ipykernel)",
   "language": "python",
   "name": "python3"
  },
  "language_info": {
   "codemirror_mode": {
    "name": "ipython",
    "version": 3
   },
   "file_extension": ".py",
   "mimetype": "text/x-python",
   "name": "python",
   "nbconvert_exporter": "python",
   "pygments_lexer": "ipython3",
   "version": "3.10.6"
  },
  "papermill": {
   "default_parameters": {},
   "duration": 34.082477,
   "end_time": "2023-05-03T09:58:43.579193",
   "environment_variables": {},
   "exception": null,
   "input_path": "/home/dieagra/Desktop/Stuff/oscar_elyra/notebooks/Oscar_Client.ipynb",
   "output_path": "/home/dieagra/Desktop/Stuff/oscar_elyra/notebooks/Oscar_Client.ipynb",
   "parameters": {},
   "start_time": "2023-05-03T09:58:09.496716",
   "version": "2.4.0"
  }
 },
 "nbformat": 4,
 "nbformat_minor": 5
}
