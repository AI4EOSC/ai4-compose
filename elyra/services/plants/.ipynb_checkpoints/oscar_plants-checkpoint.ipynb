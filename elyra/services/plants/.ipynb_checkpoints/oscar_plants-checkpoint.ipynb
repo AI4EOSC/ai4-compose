{
 "cells": [
  {
   "cell_type": "markdown",
   "id": "4a582302-1262-4748-9759-3c7dfd9f048f",
   "metadata": {
    "papermill": {
     "duration": 0.003898,
     "end_time": "2023-05-22T07:46:14.930545",
     "exception": false,
     "start_time": "2023-05-22T07:46:14.926647",
     "status": "completed"
    },
    "tags": []
   },
   "source": [
    "# Import libraries"
   ]
  },
  {
   "cell_type": "code",
   "execution_count": 1,
   "id": "263eb0c8-2061-488d-a047-68bdb7afeb7d",
   "metadata": {
    "execution": {
     "iopub.execute_input": "2023-05-22T07:46:14.944236Z",
     "iopub.status.busy": "2023-05-22T07:46:14.943845Z",
     "iopub.status.idle": "2023-05-22T07:46:15.083961Z",
     "shell.execute_reply": "2023-05-22T07:46:15.083396Z"
    },
    "papermill": {
     "duration": 0.146983,
     "end_time": "2023-05-22T07:46:15.085237",
     "exception": false,
     "start_time": "2023-05-22T07:46:14.938254",
     "status": "completed"
    },
    "tags": []
   },
   "outputs": [],
   "source": [
    "import os\n",
    "import json\n",
    "from oscar_python.client import Client"
   ]
  },
  {
   "cell_type": "markdown",
   "id": "ba4bfca4-7937-47e9-ba62-822266f9c651",
   "metadata": {
    "papermill": {
     "duration": 0.007536,
     "end_time": "2023-05-22T07:46:15.094325",
     "exception": false,
     "start_time": "2023-05-22T07:46:15.086789",
     "status": "completed"
    },
    "tags": []
   },
   "source": [
    "# Read credentials"
   ]
  },
  {
   "cell_type": "code",
   "execution_count": 2,
   "id": "7d1fd172-a67d-465a-91ed-c0f5ee7026b7",
   "metadata": {
    "execution": {
     "iopub.execute_input": "2023-05-22T07:46:15.097527Z",
     "iopub.status.busy": "2023-05-22T07:46:15.097316Z",
     "iopub.status.idle": "2023-05-22T07:46:15.100066Z",
     "shell.execute_reply": "2023-05-22T07:46:15.099733Z"
    },
    "papermill": {
     "duration": 0.005374,
     "end_time": "2023-05-22T07:46:15.100915",
     "exception": false,
     "start_time": "2023-05-22T07:46:15.095541",
     "status": "completed"
    },
    "tags": []
   },
   "outputs": [],
   "source": [
    "json_path = os.path.join(\"../../input/credentials\", os.environ.get(\"JSON_NAME\") + \".json\")\n",
    "with open(json_path) as f:\n",
    "    credentials = json.load(f)"
   ]
  },
  {
   "cell_type": "markdown",
   "id": "e4063125-74e9-4d39-b380-f77614a167ce",
   "metadata": {
    "papermill": {
     "duration": 0.001257,
     "end_time": "2023-05-22T07:46:15.103500",
     "exception": false,
     "start_time": "2023-05-22T07:46:15.102243",
     "status": "completed"
    },
    "tags": []
   },
   "source": [
    "# Create OSCAR client with the credentials"
   ]
  },
  {
   "cell_type": "code",
   "execution_count": 3,
   "id": "d4d8b047-6ff0-4c3c-831e-c4753bdd43ea",
   "metadata": {
    "execution": {
     "iopub.execute_input": "2023-05-22T07:46:15.106981Z",
     "iopub.status.busy": "2023-05-22T07:46:15.106827Z",
     "iopub.status.idle": "2023-05-22T07:46:15.109611Z",
     "shell.execute_reply": "2023-05-22T07:46:15.109161Z"
    },
    "papermill": {
     "duration": 0.005661,
     "end_time": "2023-05-22T07:46:15.110519",
     "exception": false,
     "start_time": "2023-05-22T07:46:15.104858",
     "status": "completed"
    },
    "tags": []
   },
   "outputs": [],
   "source": [
    "oscar_client = Client(\n",
    "    id=credentials[\"ID\"],\n",
    "    endpoint=credentials[\"ENDPOINT\"],\n",
    "    user=credentials[\"USER\"],\n",
    "    password=credentials[\"PASSWORD\"],\n",
    "    ssl=True\n",
    ")"
   ]
  },
  {
   "cell_type": "markdown",
   "id": "5394de5b-209d-48d6-8a99-5b52fae82f1d",
   "metadata": {
    "papermill": {
     "duration": 0.001244,
     "end_time": "2023-05-22T07:46:15.113081",
     "exception": false,
     "start_time": "2023-05-22T07:46:15.111837",
     "status": "completed"
    },
    "tags": []
   },
   "source": [
    "# Read text base 64 input"
   ]
  },
  {
   "cell_type": "code",
   "execution_count": 4,
   "id": "9d3b4ba9-8b1b-4756-93c2-8a5b03ebc8d1",
   "metadata": {
    "execution": {
     "iopub.execute_input": "2023-05-22T07:46:15.116211Z",
     "iopub.status.busy": "2023-05-22T07:46:15.116056Z",
     "iopub.status.idle": "2023-05-22T07:46:15.118795Z",
     "shell.execute_reply": "2023-05-22T07:46:15.118462Z"
    },
    "papermill": {
     "duration": 0.005304,
     "end_time": "2023-05-22T07:46:15.119617",
     "exception": false,
     "start_time": "2023-05-22T07:46:15.114313",
     "status": "completed"
    },
    "tags": []
   },
   "outputs": [],
   "source": [
    "image_name = os.environ.get(\"B64_INPUT\")\n",
    "output_file_name = os.getenv(\"DATA_OUTPUT\")\n",
    "output_file = f\"../../input/data/{image_name.rsplit('.', 1)[0]}.txt\"\n",
    "\n",
    "with open(output_file, \"r\") as txt_file:\n",
    "    encoded_image = txt_file.read()"
   ]
  },
  {
   "cell_type": "markdown",
   "id": "9f10caa6-316a-45aa-8e9b-6a53a0a4dd58",
   "metadata": {
    "papermill": {
     "duration": 0.001248,
     "end_time": "2023-05-22T07:46:15.122196",
     "exception": false,
     "start_time": "2023-05-22T07:46:15.120948",
     "status": "completed"
    },
    "tags": []
   },
   "source": [
    "# Create oscar service: cowsay"
   ]
  },
  {
   "cell_type": "code",
   "execution_count": 5,
   "id": "f6b8bfa3-131f-464c-aeab-47a5d61cc093",
   "metadata": {
    "execution": {
     "iopub.execute_input": "2023-05-22T07:46:15.125355Z",
     "iopub.status.busy": "2023-05-22T07:46:15.125136Z",
     "iopub.status.idle": "2023-05-22T07:46:15.397684Z",
     "shell.execute_reply": "2023-05-22T07:46:15.397103Z"
    },
    "papermill": {
     "duration": 0.27565,
     "end_time": "2023-05-22T07:46:15.399070",
     "exception": false,
     "start_time": "2023-05-22T07:46:15.123420",
     "status": "completed"
    },
    "tags": []
   },
   "outputs": [
    {
     "name": "stdout",
     "output_type": "stream",
     "text": [
      "Error creating service:  A service with name 'grayify' is already present on the cluster\n"
     ]
    }
   ],
   "source": [
    "try:\n",
    "    oscar_client.create_service(\"plant-classification-theano.yaml\")\n",
    "    print(\"Service created\")\n",
    "except Exception as ex:\n",
    "    print(\"Error creating service: \", ex)"
   ]
  },
  {
   "cell_type": "markdown",
   "id": "a54b3732-e2d0-4c66-a089-32328c212207",
   "metadata": {
    "papermill": {
     "duration": 0.007654,
     "end_time": "2023-05-22T07:46:15.409746",
     "exception": false,
     "start_time": "2023-05-22T07:46:15.402092",
     "status": "completed"
    },
    "tags": []
   },
   "source": [
    "# Use the service"
   ]
  },
  {
   "cell_type": "code",
   "execution_count": 6,
   "id": "f97746a2-eb2e-49d1-85dd-99b55d704347",
   "metadata": {
    "execution": {
     "iopub.execute_input": "2023-05-22T07:46:15.417755Z",
     "iopub.status.busy": "2023-05-22T07:46:15.417505Z",
     "iopub.status.idle": "2023-05-22T07:46:19.728918Z",
     "shell.execute_reply": "2023-05-22T07:46:19.727723Z"
    },
    "papermill": {
     "duration": 4.318341,
     "end_time": "2023-05-22T07:46:19.731750",
     "exception": false,
     "start_time": "2023-05-22T07:46:15.413409",
     "status": "completed"
    },
    "tags": []
   },
   "outputs": [],
   "source": [
    "response = oscar_client.run_service(\"plants\", input=encoded_image)\n",
    "\n",
    "# Verify if response is complete\n",
    "if response.status_code == 200:\n",
    "    # Process grayify service response\n",
    "    data = response.text\n",
    "    #  print(\"data:\", data)\n",
    "    os.makedirs('../../output/text', exist_ok=True)\n",
    "\n",
    "    output_file_path = f\"../../output/text/{output_file_name}\"\n",
    "    with open(output_file_path, 'w') as f:\n",
    "        f.write(data)\n",
    "\n",
    "else:\n",
    "    print(f\"Error en la ejecución del servicio 'plants': {response.status_code} {response.text}\")"
   ]
  }
 ],
 "metadata": {
  "kernelspec": {
   "display_name": "Python 3 (ipykernel)",
   "language": "python",
   "name": "python3"
  },
  "language_info": {
   "codemirror_mode": {
    "name": "ipython",
    "version": 3
   },
   "file_extension": ".py",
   "mimetype": "text/x-python",
   "name": "python",
   "nbconvert_exporter": "python",
   "pygments_lexer": "ipython3",
   "version": "3.10.6"
  },
  "papermill": {
   "default_parameters": {},
   "duration": 5.586172,
   "end_time": "2023-05-22T07:46:19.950784",
   "environment_variables": {},
   "exception": null,
   "input_path": "/home/dieagra/Desktop/Stuff/oscar_elyra/services/grayify/oscar_grayify.ipynb",
   "output_path": "/home/dieagra/Desktop/Stuff/oscar_elyra/services/grayify/oscar_grayify.ipynb",
   "parameters": {},
   "start_time": "2023-05-22T07:46:14.364612",
   "version": "2.4.0"
  }
 },
 "nbformat": 4,
 "nbformat_minor": 5
}
