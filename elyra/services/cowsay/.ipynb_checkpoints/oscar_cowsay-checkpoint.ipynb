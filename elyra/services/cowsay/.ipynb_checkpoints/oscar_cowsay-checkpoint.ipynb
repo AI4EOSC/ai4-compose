{
 "cells": [
  {
   "cell_type": "markdown",
   "id": "4a582302-1262-4748-9759-3c7dfd9f048f",
   "metadata": {
    "papermill": {
     "duration": 0.004198,
     "end_time": "2023-05-22T07:21:04.331898",
     "exception": false,
     "start_time": "2023-05-22T07:21:04.327700",
     "status": "completed"
    },
    "tags": []
   },
   "source": [
    "# Import libraries"
   ]
  },
  {
   "cell_type": "code",
   "execution_count": 1,
   "id": "263eb0c8-2061-488d-a047-68bdb7afeb7d",
   "metadata": {
    "execution": {
     "iopub.execute_input": "2023-05-22T07:21:04.345239Z",
     "iopub.status.busy": "2023-05-22T07:21:04.344825Z",
     "iopub.status.idle": "2023-05-22T07:21:04.474398Z",
     "shell.execute_reply": "2023-05-22T07:21:04.473907Z"
    },
    "papermill": {
     "duration": 0.135926,
     "end_time": "2023-05-22T07:21:04.475522",
     "exception": false,
     "start_time": "2023-05-22T07:21:04.339596",
     "status": "completed"
    },
    "tags": []
   },
   "outputs": [],
   "source": [
    "import os\n",
    "import json\n",
    "from oscar_python.client import Client"
   ]
  },
  {
   "cell_type": "markdown",
   "id": "ba4bfca4-7937-47e9-ba62-822266f9c651",
   "metadata": {
    "papermill": {
     "duration": 0.007497,
     "end_time": "2023-05-22T07:21:04.484627",
     "exception": false,
     "start_time": "2023-05-22T07:21:04.477130",
     "status": "completed"
    },
    "tags": []
   },
   "source": [
    "# Read credentials"
   ]
  },
  {
   "cell_type": "code",
   "execution_count": 2,
   "id": "7d1fd172-a67d-465a-91ed-c0f5ee7026b7",
   "metadata": {
    "execution": {
     "iopub.execute_input": "2023-05-22T07:21:04.488002Z",
     "iopub.status.busy": "2023-05-22T07:21:04.487765Z",
     "iopub.status.idle": "2023-05-22T07:21:04.490891Z",
     "shell.execute_reply": "2023-05-22T07:21:04.490518Z"
    },
    "papermill": {
     "duration": 0.00588,
     "end_time": "2023-05-22T07:21:04.491746",
     "exception": false,
     "start_time": "2023-05-22T07:21:04.485866",
     "status": "completed"
    },
    "tags": []
   },
   "outputs": [],
   "source": [
    "json_path = os.path.join(\"../../input/credentials\", os.environ.get(\"JSON_NAME\") + \".json\")\n",
    "with open(json_path) as f:\n",
    "    credentials = json.load(f)"
   ]
  },
  {
   "cell_type": "markdown",
   "id": "e4063125-74e9-4d39-b380-f77614a167ce",
   "metadata": {
    "papermill": {
     "duration": 0.001294,
     "end_time": "2023-05-22T07:21:04.494289",
     "exception": false,
     "start_time": "2023-05-22T07:21:04.492995",
     "status": "completed"
    },
    "tags": []
   },
   "source": [
    "# Create OSCAR client with the credentials"
   ]
  },
  {
   "cell_type": "code",
   "execution_count": 3,
   "id": "d4d8b047-6ff0-4c3c-831e-c4753bdd43ea",
   "metadata": {
    "execution": {
     "iopub.execute_input": "2023-05-22T07:21:04.497563Z",
     "iopub.status.busy": "2023-05-22T07:21:04.497401Z",
     "iopub.status.idle": "2023-05-22T07:21:04.499834Z",
     "shell.execute_reply": "2023-05-22T07:21:04.499479Z"
    },
    "papermill": {
     "duration": 0.005044,
     "end_time": "2023-05-22T07:21:04.500672",
     "exception": false,
     "start_time": "2023-05-22T07:21:04.495628",
     "status": "completed"
    },
    "tags": []
   },
   "outputs": [],
   "source": [
    "oscar_client = Client(\n",
    "    id=credentials[\"ID\"],\n",
    "    endpoint=credentials[\"ENDPOINT\"],\n",
    "    user=credentials[\"USER\"],\n",
    "    password=credentials[\"PASSWORD\"],\n",
    "    ssl=True\n",
    ")"
   ]
  },
  {
   "cell_type": "markdown",
   "id": "5394de5b-209d-48d6-8a99-5b52fae82f1d",
   "metadata": {
    "papermill": {
     "duration": 0.001238,
     "end_time": "2023-05-22T07:21:04.503213",
     "exception": false,
     "start_time": "2023-05-22T07:21:04.501975",
     "status": "completed"
    },
    "tags": []
   },
   "source": [
    "# Read text input"
   ]
  },
  {
   "cell_type": "code",
   "execution_count": 4,
   "id": "7810f3a8-2c68-4b0f-8001-b18a2d5a521d",
   "metadata": {
    "execution": {
     "iopub.execute_input": "2023-05-22T07:21:04.506680Z",
     "iopub.status.busy": "2023-05-22T07:21:04.506424Z",
     "iopub.status.idle": "2023-05-22T07:21:04.508894Z",
     "shell.execute_reply": "2023-05-22T07:21:04.508517Z"
    },
    "papermill": {
     "duration": 0.005074,
     "end_time": "2023-05-22T07:21:04.509740",
     "exception": false,
     "start_time": "2023-05-22T07:21:04.504666",
     "status": "completed"
    },
    "tags": []
   },
   "outputs": [],
   "source": [
    "text_input = os.environ.get(\"TEXT_INPUT\")"
   ]
  },
  {
   "cell_type": "markdown",
   "id": "9f10caa6-316a-45aa-8e9b-6a53a0a4dd58",
   "metadata": {
    "papermill": {
     "duration": 0.001288,
     "end_time": "2023-05-22T07:21:04.512355",
     "exception": false,
     "start_time": "2023-05-22T07:21:04.511067",
     "status": "completed"
    },
    "tags": []
   },
   "source": [
    "# Create oscar service: cowsay"
   ]
  },
  {
   "cell_type": "code",
   "execution_count": 5,
   "id": "f6b8bfa3-131f-464c-aeab-47a5d61cc093",
   "metadata": {
    "execution": {
     "iopub.execute_input": "2023-05-22T07:21:04.515684Z",
     "iopub.status.busy": "2023-05-22T07:21:04.515544Z",
     "iopub.status.idle": "2023-05-22T07:21:04.635975Z",
     "shell.execute_reply": "2023-05-22T07:21:04.634905Z"
    },
    "papermill": {
     "duration": 0.124764,
     "end_time": "2023-05-22T07:21:04.638350",
     "exception": false,
     "start_time": "2023-05-22T07:21:04.513586",
     "status": "completed"
    },
    "tags": []
   },
   "outputs": [
    {
     "name": "stdout",
     "output_type": "stream",
     "text": [
      "Error creating service:  A service with name 'cowsay' is already present on the cluster\n"
     ]
    }
   ],
   "source": [
    "try:\n",
    "    oscar_client.create_service(\"cowsay.yaml\")\n",
    "    print(\"Service created\")\n",
    "except Exception as ex:\n",
    "    print(\"Error creating service: \", ex)"
   ]
  },
  {
   "cell_type": "markdown",
   "id": "a54b3732-e2d0-4c66-a089-32328c212207",
   "metadata": {
    "papermill": {
     "duration": 0.007409,
     "end_time": "2023-05-22T07:21:04.650069",
     "exception": false,
     "start_time": "2023-05-22T07:21:04.642660",
     "status": "completed"
    },
    "tags": []
   },
   "source": [
    "# Use the service"
   ]
  },
  {
   "cell_type": "code",
   "execution_count": 6,
   "id": "26494a58-7c32-4020-85d3-bddc5e412fed",
   "metadata": {
    "execution": {
     "iopub.execute_input": "2023-05-22T07:21:04.658620Z",
     "iopub.status.busy": "2023-05-22T07:21:04.658347Z",
     "iopub.status.idle": "2023-05-22T07:21:05.968568Z",
     "shell.execute_reply": "2023-05-22T07:21:05.967099Z"
    },
    "papermill": {
     "duration": 1.317761,
     "end_time": "2023-05-22T07:21:05.971618",
     "exception": false,
     "start_time": "2023-05-22T07:21:04.653857",
     "status": "completed"
    },
    "tags": []
   },
   "outputs": [
    {
     "name": "stdout",
     "output_type": "stream",
     "text": [
      " ______________\n",
      "< hello world! >\n",
      " --------------\n",
      "        \\   ^__^\n",
      "         \\  (oo)\\_______\n",
      "            (__)\\       )\\/\\\n",
      "                ||----w |\n",
      "                ||     ||\n",
      "\n",
      "\n"
     ]
    }
   ],
   "source": [
    "response = oscar_client.run_service(\"cowsay\", input=\"Hello everyone\")\n",
    "\n",
    "# Verificar si la respuesta es exitosa\n",
    "if response.status_code == 200:\n",
    "    # Procesar la respuesta del servicio \"plants\"\n",
    "    cowsay_data = response.text\n",
    "    print(cowsay_data)\n",
    "\n",
    "\n",
    "else:\n",
    "    print(f\"Error en la ejecución del servicio 'cowsay': {response.status_code} {response.text}\")"
   ]
  }
 ],
 "metadata": {
  "kernelspec": {
   "display_name": "Python 3 (ipykernel)",
   "language": "python",
   "name": "python3"
  },
  "language_info": {
   "codemirror_mode": {
    "name": "ipython",
    "version": 3
   },
   "file_extension": ".py",
   "mimetype": "text/x-python",
   "name": "python",
   "nbconvert_exporter": "python",
   "pygments_lexer": "ipython3",
   "version": "3.10.6"
  },
  "papermill": {
   "default_parameters": {},
   "duration": 2.62451,
   "end_time": "2023-05-22T07:21:06.197511",
   "environment_variables": {},
   "exception": null,
   "input_path": "/home/dieagra/Desktop/Stuff/oscar_elyra/services/cowsay/oscar_cowsay.ipynb",
   "output_path": "/home/dieagra/Desktop/Stuff/oscar_elyra/services/cowsay/oscar_cowsay.ipynb",
   "parameters": {},
   "start_time": "2023-05-22T07:21:03.573001",
   "version": "2.4.0"
  }
 },
 "nbformat": 4,
 "nbformat_minor": 5
}
