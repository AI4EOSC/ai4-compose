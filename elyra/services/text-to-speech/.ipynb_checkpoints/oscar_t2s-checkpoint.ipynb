{
 "cells": [
  {
   "cell_type": "markdown",
   "id": "71841f42",
   "metadata": {
    "tags": [
     "papermill-error-cell-tag"
    ]
   },
   "source": [
    "<span style=\"color:red; font-family:Helvetica Neue, Helvetica, Arial, sans-serif; font-size:2em;\">An Exception was encountered at '<a href=\"#papermill-error-cell\">In [6]</a>'.</span>"
   ]
  },
  {
   "cell_type": "markdown",
   "id": "4a582302-1262-4748-9759-3c7dfd9f048f",
   "metadata": {
    "papermill": {
     "duration": 0.003942,
     "end_time": "2023-05-29T11:35:07.081844",
     "exception": false,
     "start_time": "2023-05-29T11:35:07.077902",
     "status": "completed"
    },
    "tags": []
   },
   "source": [
    "# Import libraries"
   ]
  },
  {
   "cell_type": "code",
   "execution_count": 1,
   "id": "263eb0c8-2061-488d-a047-68bdb7afeb7d",
   "metadata": {
    "execution": {
     "iopub.execute_input": "2023-05-29T11:35:07.096051Z",
     "iopub.status.busy": "2023-05-29T11:35:07.095226Z",
     "iopub.status.idle": "2023-05-29T11:35:07.232767Z",
     "shell.execute_reply": "2023-05-29T11:35:07.232041Z"
    },
    "papermill": {
     "duration": 0.144134,
     "end_time": "2023-05-29T11:35:07.233980",
     "exception": false,
     "start_time": "2023-05-29T11:35:07.089846",
     "status": "completed"
    },
    "tags": []
   },
   "outputs": [],
   "source": [
    "import os\n",
    "import json\n",
    "from oscar_python.client import Client"
   ]
  },
  {
   "cell_type": "markdown",
   "id": "ba4bfca4-7937-47e9-ba62-822266f9c651",
   "metadata": {
    "papermill": {
     "duration": 0.007503,
     "end_time": "2023-05-29T11:35:07.243057",
     "exception": false,
     "start_time": "2023-05-29T11:35:07.235554",
     "status": "completed"
    },
    "tags": []
   },
   "source": [
    "# Read credentials"
   ]
  },
  {
   "cell_type": "code",
   "execution_count": 2,
   "id": "7d1fd172-a67d-465a-91ed-c0f5ee7026b7",
   "metadata": {
    "execution": {
     "iopub.execute_input": "2023-05-29T11:35:07.250895Z",
     "iopub.status.busy": "2023-05-29T11:35:07.250593Z",
     "iopub.status.idle": "2023-05-29T11:35:07.253455Z",
     "shell.execute_reply": "2023-05-29T11:35:07.253077Z"
    },
    "papermill": {
     "duration": 0.008971,
     "end_time": "2023-05-29T11:35:07.254357",
     "exception": false,
     "start_time": "2023-05-29T11:35:07.245386",
     "status": "completed"
    },
    "tags": []
   },
   "outputs": [],
   "source": [
    "json_path = os.path.join(\"../../input/credentials\", os.environ.get(\"JSON_NAME\") + \".json\")\n",
    "with open(json_path) as f:\n",
    "    credentials = json.load(f)"
   ]
  },
  {
   "cell_type": "markdown",
   "id": "e4063125-74e9-4d39-b380-f77614a167ce",
   "metadata": {
    "papermill": {
     "duration": 0.001503,
     "end_time": "2023-05-29T11:35:07.257404",
     "exception": false,
     "start_time": "2023-05-29T11:35:07.255901",
     "status": "completed"
    },
    "tags": []
   },
   "source": [
    "# Create OSCAR client with the credentials"
   ]
  },
  {
   "cell_type": "code",
   "execution_count": 3,
   "id": "d4d8b047-6ff0-4c3c-831e-c4753bdd43ea",
   "metadata": {
    "execution": {
     "iopub.execute_input": "2023-05-29T11:35:07.262470Z",
     "iopub.status.busy": "2023-05-29T11:35:07.262270Z",
     "iopub.status.idle": "2023-05-29T11:35:07.264937Z",
     "shell.execute_reply": "2023-05-29T11:35:07.264404Z"
    },
    "papermill": {
     "duration": 0.006885,
     "end_time": "2023-05-29T11:35:07.266216",
     "exception": false,
     "start_time": "2023-05-29T11:35:07.259331",
     "status": "completed"
    },
    "tags": []
   },
   "outputs": [],
   "source": [
    "oscar_client = Client(\n",
    "    id=credentials[\"ID\"],\n",
    "    endpoint=credentials[\"ENDPOINT\"],\n",
    "    user=credentials[\"USER\"],\n",
    "    password=credentials[\"PASSWORD\"],\n",
    "    ssl=True\n",
    ")"
   ]
  },
  {
   "cell_type": "markdown",
   "id": "5394de5b-209d-48d6-8a99-5b52fae82f1d",
   "metadata": {
    "papermill": {
     "duration": 0.001436,
     "end_time": "2023-05-29T11:35:07.269176",
     "exception": false,
     "start_time": "2023-05-29T11:35:07.267740",
     "status": "completed"
    },
    "tags": []
   },
   "source": [
    "# Read text input"
   ]
  },
  {
   "cell_type": "code",
   "execution_count": 4,
   "id": "7810f3a8-2c68-4b0f-8001-b18a2d5a521d",
   "metadata": {
    "execution": {
     "iopub.execute_input": "2023-05-29T11:35:07.273018Z",
     "iopub.status.busy": "2023-05-29T11:35:07.272838Z",
     "iopub.status.idle": "2023-05-29T11:35:07.275542Z",
     "shell.execute_reply": "2023-05-29T11:35:07.275006Z"
    },
    "papermill": {
     "duration": 0.006026,
     "end_time": "2023-05-29T11:35:07.276758",
     "exception": false,
     "start_time": "2023-05-29T11:35:07.270732",
     "status": "completed"
    },
    "tags": []
   },
   "outputs": [],
   "source": [
    "text_input = os.environ.get(\"TEXT_INPUT\")"
   ]
  },
  {
   "cell_type": "markdown",
   "id": "9f10caa6-316a-45aa-8e9b-6a53a0a4dd58",
   "metadata": {
    "papermill": {
     "duration": 0.001418,
     "end_time": "2023-05-29T11:35:07.279676",
     "exception": false,
     "start_time": "2023-05-29T11:35:07.278258",
     "status": "completed"
    },
    "tags": []
   },
   "source": [
    "# Create oscar service: text-to-speech-coqui"
   ]
  },
  {
   "cell_type": "code",
   "execution_count": 5,
   "id": "f6b8bfa3-131f-464c-aeab-47a5d61cc093",
   "metadata": {
    "execution": {
     "iopub.execute_input": "2023-05-29T11:35:07.283428Z",
     "iopub.status.busy": "2023-05-29T11:35:07.283158Z",
     "iopub.status.idle": "2023-05-29T11:35:07.457725Z",
     "shell.execute_reply": "2023-05-29T11:35:07.457265Z"
    },
    "papermill": {
     "duration": 0.177604,
     "end_time": "2023-05-29T11:35:07.458603",
     "exception": false,
     "start_time": "2023-05-29T11:35:07.280999",
     "status": "completed"
    },
    "tags": []
   },
   "outputs": [
    {
     "name": "stdout",
     "output_type": "stream",
     "text": [
      "Error creating service:  A service with name 'text-to-speech-coqui' is already present on the cluster\n"
     ]
    }
   ],
   "source": [
    "try:\n",
    "    oscar_client.create_service(\"text-to-speech-coqui.yaml\")\n",
    "    print(\"Service created\")\n",
    "except Exception as ex:\n",
    "    print(\"Error creating service: \", ex)"
   ]
  },
  {
   "cell_type": "markdown",
   "id": "a54b3732-e2d0-4c66-a089-32328c212207",
   "metadata": {
    "papermill": {
     "duration": 0.007832,
     "end_time": "2023-05-29T11:35:07.468115",
     "exception": false,
     "start_time": "2023-05-29T11:35:07.460283",
     "status": "completed"
    },
    "tags": []
   },
   "source": [
    "# Use the service"
   ]
  },
  {
   "cell_type": "markdown",
   "id": "22045c56",
   "metadata": {
    "tags": [
     "papermill-error-cell-tag"
    ]
   },
   "source": [
    "<span id=\"papermill-error-cell\" style=\"color:red; font-family:Helvetica Neue, Helvetica, Arial, sans-serif; font-size:2em;\">Execution using papermill encountered an exception here and stopped:</span>"
   ]
  },
  {
   "cell_type": "code",
   "execution_count": 6,
   "id": "796a0140-b3fc-4ba8-bd61-9934ade4eccf",
   "metadata": {
    "execution": {
     "iopub.execute_input": "2023-05-29T11:35:07.478904Z",
     "iopub.status.busy": "2023-05-29T11:35:07.477707Z",
     "iopub.status.idle": "2023-05-29T11:35:07.907695Z",
     "shell.execute_reply": "2023-05-29T11:35:07.907123Z"
    },
    "papermill": {
     "duration": 0.436587,
     "end_time": "2023-05-29T11:35:07.908483",
     "exception": true,
     "start_time": "2023-05-29T11:35:07.471896",
     "status": "failed"
    },
    "tags": []
   },
   "outputs": [
    {
     "ename": "HTTPError",
     "evalue": "502 Server Error: Bad Gateway for url: https://ecstatic-wing3.im.grycap.net/run/text-to-speech-coqui",
     "output_type": "error",
     "traceback": [
      "\u001b[0;31m---------------------------------------------------------------------------\u001b[0m",
      "\u001b[0;31mHTTPError\u001b[0m                                 Traceback (most recent call last)",
      "Cell \u001b[0;32mIn[6], line 1\u001b[0m\n\u001b[0;32m----> 1\u001b[0m response \u001b[38;5;241m=\u001b[39m \u001b[43moscar_client\u001b[49m\u001b[38;5;241;43m.\u001b[39;49m\u001b[43mrun_service\u001b[49m\u001b[43m(\u001b[49m\u001b[38;5;124;43m\"\u001b[39;49m\u001b[38;5;124;43mtext-to-speech-coqui\u001b[39;49m\u001b[38;5;124;43m\"\u001b[39;49m\u001b[43m,\u001b[49m\u001b[43m \u001b[49m\u001b[38;5;124;43m\"\u001b[39;49m\u001b[38;5;124;43ma\u001b[39;49m\u001b[38;5;124;43m\"\u001b[39;49m\u001b[43m)\u001b[49m\n\u001b[1;32m      3\u001b[0m \u001b[38;5;66;03m# Verificar si la respuesta es exitosa\u001b[39;00m\n\u001b[1;32m      4\u001b[0m \u001b[38;5;28;01mif\u001b[39;00m response\u001b[38;5;241m.\u001b[39mstatus_code \u001b[38;5;241m==\u001b[39m \u001b[38;5;241m200\u001b[39m:\n\u001b[1;32m      5\u001b[0m     \u001b[38;5;66;03m# Procesar la respuesta del servicio \"text \"\u001b[39;00m\n",
      "File \u001b[0;32m~/.local/lib/python3.10/site-packages/oscar_python/client.py:116\u001b[0m, in \u001b[0;36mClient.run_service\u001b[0;34m(self, name, input)\u001b[0m\n\u001b[1;32m    114\u001b[0m \u001b[38;5;28;01mdef\u001b[39;00m \u001b[38;5;21mrun_service\u001b[39m(\u001b[38;5;28mself\u001b[39m, name, \u001b[38;5;28minput\u001b[39m\u001b[38;5;241m=\u001b[39m\u001b[38;5;124m\"\u001b[39m\u001b[38;5;124m\"\u001b[39m):\n\u001b[1;32m    115\u001b[0m     token \u001b[38;5;241m=\u001b[39m \u001b[38;5;28mself\u001b[39m\u001b[38;5;241m.\u001b[39m_get_token(name)\n\u001b[0;32m--> 116\u001b[0m     \u001b[38;5;28;01mif\u001b[39;00m \u001b[38;5;28minput\u001b[39m: \u001b[38;5;28;01mreturn\u001b[39;00m \u001b[43mutils\u001b[49m\u001b[38;5;241;43m.\u001b[39;49m\u001b[43mmake_request\u001b[49m\u001b[43m(\u001b[49m\u001b[38;5;28;43mself\u001b[39;49m\u001b[43m,\u001b[49m\u001b[43m \u001b[49m\u001b[43m_RUN_PATH\u001b[49m\u001b[38;5;241;43m+\u001b[39;49m\u001b[38;5;124;43m\"\u001b[39;49m\u001b[38;5;124;43m/\u001b[39;49m\u001b[38;5;124;43m\"\u001b[39;49m\u001b[38;5;241;43m+\u001b[39;49m\u001b[43mname\u001b[49m\u001b[43m,\u001b[49m\u001b[43m \u001b[49m\u001b[43m_POST\u001b[49m\u001b[43m,\u001b[49m\u001b[43m \u001b[49m\u001b[43mdata\u001b[49m\u001b[38;5;241;43m=\u001b[39;49m\u001b[38;5;28;43minput\u001b[39;49m\u001b[43m,\u001b[49m\u001b[43m \u001b[49m\u001b[43mtoken\u001b[49m\u001b[38;5;241;43m=\u001b[39;49m\u001b[43mtoken\u001b[49m\u001b[43m)\u001b[49m\n\u001b[1;32m    117\u001b[0m     \u001b[38;5;28;01mreturn\u001b[39;00m utils\u001b[38;5;241m.\u001b[39mmake_request(\u001b[38;5;28mself\u001b[39m, _RUN_PATH\u001b[38;5;241m+\u001b[39m\u001b[38;5;124m\"\u001b[39m\u001b[38;5;124m/\u001b[39m\u001b[38;5;124m\"\u001b[39m\u001b[38;5;241m+\u001b[39mname, _POST, token\u001b[38;5;241m=\u001b[39mtoken)\n",
      "File \u001b[0;32m~/.local/lib/python3.10/site-packages/oscar_python/_utils.py:33\u001b[0m, in \u001b[0;36mmake_request\u001b[0;34m(c, path, method, **kwargs)\u001b[0m\n\u001b[1;32m     30\u001b[0m \u001b[38;5;28;01mif\u001b[39;00m \u001b[38;5;124m\"\u001b[39m\u001b[38;5;124mhandle\u001b[39m\u001b[38;5;124m\"\u001b[39m \u001b[38;5;129;01min\u001b[39;00m kwargs\u001b[38;5;241m.\u001b[39mkeys() \u001b[38;5;129;01mand\u001b[39;00m kwargs[\u001b[38;5;124m\"\u001b[39m\u001b[38;5;124mhandle\u001b[39m\u001b[38;5;124m\"\u001b[39m] \u001b[38;5;241m==\u001b[39m \u001b[38;5;28;01mFalse\u001b[39;00m:\n\u001b[1;32m     31\u001b[0m     \u001b[38;5;28;01mreturn\u001b[39;00m result\n\u001b[0;32m---> 33\u001b[0m \u001b[43mresult\u001b[49m\u001b[38;5;241;43m.\u001b[39;49m\u001b[43mraise_for_status\u001b[49m\u001b[43m(\u001b[49m\u001b[43m)\u001b[49m\n\u001b[1;32m     34\u001b[0m \u001b[38;5;28;01mreturn\u001b[39;00m result\n",
      "File \u001b[0;32m~/.local/lib/python3.10/site-packages/requests/models.py:1021\u001b[0m, in \u001b[0;36mResponse.raise_for_status\u001b[0;34m(self)\u001b[0m\n\u001b[1;32m   1016\u001b[0m     http_error_msg \u001b[38;5;241m=\u001b[39m (\n\u001b[1;32m   1017\u001b[0m         \u001b[38;5;124mf\u001b[39m\u001b[38;5;124m\"\u001b[39m\u001b[38;5;132;01m{\u001b[39;00m\u001b[38;5;28mself\u001b[39m\u001b[38;5;241m.\u001b[39mstatus_code\u001b[38;5;132;01m}\u001b[39;00m\u001b[38;5;124m Server Error: \u001b[39m\u001b[38;5;132;01m{\u001b[39;00mreason\u001b[38;5;132;01m}\u001b[39;00m\u001b[38;5;124m for url: \u001b[39m\u001b[38;5;132;01m{\u001b[39;00m\u001b[38;5;28mself\u001b[39m\u001b[38;5;241m.\u001b[39murl\u001b[38;5;132;01m}\u001b[39;00m\u001b[38;5;124m\"\u001b[39m\n\u001b[1;32m   1018\u001b[0m     )\n\u001b[1;32m   1020\u001b[0m \u001b[38;5;28;01mif\u001b[39;00m http_error_msg:\n\u001b[0;32m-> 1021\u001b[0m     \u001b[38;5;28;01mraise\u001b[39;00m HTTPError(http_error_msg, response\u001b[38;5;241m=\u001b[39m\u001b[38;5;28mself\u001b[39m)\n",
      "\u001b[0;31mHTTPError\u001b[0m: 502 Server Error: Bad Gateway for url: https://ecstatic-wing3.im.grycap.net/run/text-to-speech-coqui"
     ]
    }
   ],
   "source": [
    "response = oscar_client.run_service(\"text-to-speech-coqui\", input=text_input)\n",
    "\n",
    "# Verificar si la respuesta es exitosa\n",
    "if response.status_code == 200:\n",
    "    # Procesar la respuesta del servicio \"text \"\n",
    "    data = response.text\n",
    "    print(data)\n",
    "\n",
    "else:\n",
    "    print(f\"Error en la ejecución del servicio 'text-to-speech-coqui': {response.status_code} {response.text}\")\n",
    "\n"
   ]
  }
 ],
 "metadata": {
  "kernelspec": {
   "display_name": "Python 3 (ipykernel)",
   "language": "python",
   "name": "python3"
  },
  "language_info": {
   "codemirror_mode": {
    "name": "ipython",
    "version": 3
   },
   "file_extension": ".py",
   "mimetype": "text/x-python",
   "name": "python",
   "nbconvert_exporter": "python",
   "pygments_lexer": "ipython3",
   "version": "3.10.6"
  },
  "papermill": {
   "default_parameters": {},
   "duration": 1.765526,
   "end_time": "2023-05-29T11:35:08.125852",
   "environment_variables": {},
   "exception": true,
   "input_path": "/home/dieagra/Desktop/Stuff/oscar_elyra/services/text-to-speech/oscar_t2s.ipynb",
   "output_path": "/home/dieagra/Desktop/Stuff/oscar_elyra/services/text-to-speech/oscar_t2s.ipynb",
   "parameters": {},
   "start_time": "2023-05-29T11:35:06.360326",
   "version": "2.4.0"
  }
 },
 "nbformat": 4,
 "nbformat_minor": 5
}
