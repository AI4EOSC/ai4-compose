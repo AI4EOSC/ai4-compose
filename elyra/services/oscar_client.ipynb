{
 "cells": [
  {
   "cell_type": "markdown",
   "id": "eaaface7",
   "metadata": {
    "tags": [
     "papermill-error-cell-tag"
    ]
   },
   "source": [
    "<span style=\"color:red; font-family:Helvetica Neue, Helvetica, Arial, sans-serif; font-size:2em;\">An Exception was encountered at '<a href=\"#papermill-error-cell\">In [5]</a>'.</span>"
   ]
  },
  {
   "cell_type": "markdown",
   "id": "4a582302-1262-4748-9759-3c7dfd9f048f",
   "metadata": {
    "papermill": {
     "duration": 0.004136,
     "end_time": "2023-05-05T08:26:33.205510",
     "exception": false,
     "start_time": "2023-05-05T08:26:33.201374",
     "status": "completed"
    },
    "tags": []
   },
   "source": [
    "# Importar Librerías"
   ]
  },
  {
   "cell_type": "code",
   "execution_count": 1,
   "id": "263eb0c8-2061-488d-a047-68bdb7afeb7d",
   "metadata": {
    "execution": {
     "iopub.execute_input": "2023-05-05T08:26:33.218931Z",
     "iopub.status.busy": "2023-05-05T08:26:33.218482Z",
     "iopub.status.idle": "2023-05-05T08:26:33.346476Z",
     "shell.execute_reply": "2023-05-05T08:26:33.345995Z"
    },
    "papermill": {
     "duration": 0.13446,
     "end_time": "2023-05-05T08:26:33.347743",
     "exception": false,
     "start_time": "2023-05-05T08:26:33.213283",
     "status": "completed"
    },
    "tags": []
   },
   "outputs": [],
   "source": [
    "import os\n",
    "import json\n",
    "from oscar_python.client import Client"
   ]
  },
  {
   "cell_type": "markdown",
   "id": "ba4bfca4-7937-47e9-ba62-822266f9c651",
   "metadata": {
    "papermill": {
     "duration": 0.00753,
     "end_time": "2023-05-05T08:26:33.356601",
     "exception": false,
     "start_time": "2023-05-05T08:26:33.349071",
     "status": "completed"
    },
    "tags": []
   },
   "source": [
    "# Leer el archivo credentials.json"
   ]
  },
  {
   "cell_type": "code",
   "execution_count": 2,
   "id": "7d1fd172-a67d-465a-91ed-c0f5ee7026b7",
   "metadata": {
    "execution": {
     "iopub.execute_input": "2023-05-05T08:26:33.359612Z",
     "iopub.status.busy": "2023-05-05T08:26:33.359382Z",
     "iopub.status.idle": "2023-05-05T08:26:33.362342Z",
     "shell.execute_reply": "2023-05-05T08:26:33.362004Z"
    },
    "papermill": {
     "duration": 0.00547,
     "end_time": "2023-05-05T08:26:33.363097",
     "exception": false,
     "start_time": "2023-05-05T08:26:33.357627",
     "status": "completed"
    },
    "tags": []
   },
   "outputs": [],
   "source": [
    "json_path = os.path.join(\"../input/credentials\", os.environ.get(\"JSON_NAME\") + \".json\")\n",
    "with open(json_path) as f:\n",
    "    credentials = json.load(f)"
   ]
  },
  {
   "cell_type": "markdown",
   "id": "e4063125-74e9-4d39-b380-f77614a167ce",
   "metadata": {
    "papermill": {
     "duration": 0.001117,
     "end_time": "2023-05-05T08:26:33.365515",
     "exception": false,
     "start_time": "2023-05-05T08:26:33.364398",
     "status": "completed"
    },
    "tags": []
   },
   "source": [
    "# Crear cliente OSCAR"
   ]
  },
  {
   "cell_type": "code",
   "execution_count": 3,
   "id": "d4d8b047-6ff0-4c3c-831e-c4753bdd43ea",
   "metadata": {
    "execution": {
     "iopub.execute_input": "2023-05-05T08:26:33.368394Z",
     "iopub.status.busy": "2023-05-05T08:26:33.368203Z",
     "iopub.status.idle": "2023-05-05T08:26:33.371089Z",
     "shell.execute_reply": "2023-05-05T08:26:33.370673Z"
    },
    "papermill": {
     "duration": 0.005403,
     "end_time": "2023-05-05T08:26:33.372007",
     "exception": false,
     "start_time": "2023-05-05T08:26:33.366604",
     "status": "completed"
    },
    "tags": []
   },
   "outputs": [],
   "source": [
    "oscar_client = Client(\n",
    "    id=credentials[\"ID\"],\n",
    "    endpoint=credentials[\"ENDPOINT\"],\n",
    "    user=credentials[\"USER\"],\n",
    "    password=credentials[\"PASSWORD\"],\n",
    "    ssl=credentials[\"SSL\"]\n",
    ")"
   ]
  },
  {
   "cell_type": "markdown",
   "id": "5394de5b-209d-48d6-8a99-5b52fae82f1d",
   "metadata": {
    "papermill": {
     "duration": 0.001102,
     "end_time": "2023-05-05T08:26:33.374380",
     "exception": false,
     "start_time": "2023-05-05T08:26:33.373278",
     "status": "completed"
    },
    "tags": []
   },
   "source": [
    "# Leer el archivo de texto con la imagen en base64"
   ]
  },
  {
   "cell_type": "code",
   "execution_count": 4,
   "id": "7810f3a8-2c68-4b0f-8001-b18a2d5a521d",
   "metadata": {
    "execution": {
     "iopub.execute_input": "2023-05-05T08:26:33.377255Z",
     "iopub.status.busy": "2023-05-05T08:26:33.377094Z",
     "iopub.status.idle": "2023-05-05T08:26:33.379667Z",
     "shell.execute_reply": "2023-05-05T08:26:33.379324Z"
    },
    "papermill": {
     "duration": 0.004945,
     "end_time": "2023-05-05T08:26:33.380413",
     "exception": false,
     "start_time": "2023-05-05T08:26:33.375468",
     "status": "completed"
    },
    "tags": []
   },
   "outputs": [],
   "source": [
    "image_name = os.environ.get(\"B64_IMAGE\")\n",
    "output_file_name = os.getenv(\"DATA_OUTPUT\")\n",
    "output_file = f\"../input/data/{image_name.rsplit('.', 1)[0]}.txt\"\n",
    "\n",
    "with open(output_file, \"r\") as txt_file:\n",
    "    encoded_image = txt_file.read()"
   ]
  },
  {
   "cell_type": "markdown",
   "id": "9f10caa6-316a-45aa-8e9b-6a53a0a4dd58",
   "metadata": {
    "papermill": {
     "duration": 0.001096,
     "end_time": "2023-05-05T08:26:33.382684",
     "exception": false,
     "start_time": "2023-05-05T08:26:33.381588",
     "status": "completed"
    },
    "tags": []
   },
   "source": [
    "# Invoco el Servicio \"plants\""
   ]
  },
  {
   "cell_type": "markdown",
   "id": "9a665f60",
   "metadata": {
    "tags": [
     "papermill-error-cell-tag"
    ]
   },
   "source": [
    "<span id=\"papermill-error-cell\" style=\"color:red; font-family:Helvetica Neue, Helvetica, Arial, sans-serif; font-size:2em;\">Execution using papermill encountered an exception here and stopped:</span>"
   ]
  },
  {
   "cell_type": "code",
   "execution_count": 5,
   "id": "26494a58-7c32-4020-85d3-bddc5e412fed",
   "metadata": {
    "execution": {
     "iopub.execute_input": "2023-05-05T08:26:33.385626Z",
     "iopub.status.busy": "2023-05-05T08:26:33.385473Z",
     "iopub.status.idle": "2023-05-05T08:26:33.635608Z",
     "shell.execute_reply": "2023-05-05T08:26:33.634859Z"
    },
    "papermill": {
     "duration": 0.252569,
     "end_time": "2023-05-05T08:26:33.636348",
     "exception": true,
     "start_time": "2023-05-05T08:26:33.383779",
     "status": "failed"
    },
    "tags": []
   },
   "outputs": [
    {
     "name": "stderr",
     "output_type": "stream",
     "text": [
      "/usr/lib/python3/dist-packages/urllib3/connectionpool.py:1015: InsecureRequestWarning: Unverified HTTPS request is being made to host 'happy-burnell8.im.grycap.net'. Adding certificate verification is strongly advised. See: https://urllib3.readthedocs.io/en/latest/advanced-usage.html#ssl-warnings\n",
      "  warnings.warn(\n"
     ]
    },
    {
     "ename": "HTTPError",
     "evalue": "404 Client Error: Not Found for url: https://happy-burnell8.im.grycap.net/system/services/plants",
     "output_type": "error",
     "traceback": [
      "\u001b[0;31m---------------------------------------------------------------------------\u001b[0m",
      "\u001b[0;31mHTTPError\u001b[0m                                 Traceback (most recent call last)",
      "Cell \u001b[0;32mIn[5], line 1\u001b[0m\n\u001b[0;32m----> 1\u001b[0m response \u001b[38;5;241m=\u001b[39m \u001b[43moscar_client\u001b[49m\u001b[38;5;241;43m.\u001b[39;49m\u001b[43mrun_service\u001b[49m\u001b[43m(\u001b[49m\u001b[38;5;124;43m\"\u001b[39;49m\u001b[38;5;124;43mplants\u001b[39;49m\u001b[38;5;124;43m\"\u001b[39;49m\u001b[43m,\u001b[49m\u001b[43m \u001b[49m\u001b[38;5;28;43minput\u001b[39;49m\u001b[38;5;241;43m=\u001b[39;49m\u001b[43mencoded_image\u001b[49m\u001b[43m)\u001b[49m\n\u001b[1;32m      3\u001b[0m \u001b[38;5;66;03m# Verificar si la respuesta es exitosa\u001b[39;00m\n\u001b[1;32m      4\u001b[0m \u001b[38;5;28;01mif\u001b[39;00m response\u001b[38;5;241m.\u001b[39mstatus_code \u001b[38;5;241m==\u001b[39m \u001b[38;5;241m200\u001b[39m:\n\u001b[1;32m      5\u001b[0m     \u001b[38;5;66;03m# Procesar la respuesta del servicio \"plants\"\u001b[39;00m\n",
      "File \u001b[0;32m~/.local/lib/python3.10/site-packages/oscar_python/client.py:115\u001b[0m, in \u001b[0;36mClient.run_service\u001b[0;34m(self, name, input)\u001b[0m\n\u001b[1;32m    114\u001b[0m \u001b[38;5;28;01mdef\u001b[39;00m \u001b[38;5;21mrun_service\u001b[39m(\u001b[38;5;28mself\u001b[39m, name, \u001b[38;5;28minput\u001b[39m\u001b[38;5;241m=\u001b[39m\u001b[38;5;124m\"\u001b[39m\u001b[38;5;124m\"\u001b[39m):\n\u001b[0;32m--> 115\u001b[0m     token \u001b[38;5;241m=\u001b[39m \u001b[38;5;28;43mself\u001b[39;49m\u001b[38;5;241;43m.\u001b[39;49m\u001b[43m_get_token\u001b[49m\u001b[43m(\u001b[49m\u001b[43mname\u001b[49m\u001b[43m)\u001b[49m\n\u001b[1;32m    116\u001b[0m     \u001b[38;5;28;01mif\u001b[39;00m \u001b[38;5;28minput\u001b[39m: \u001b[38;5;28;01mreturn\u001b[39;00m utils\u001b[38;5;241m.\u001b[39mmake_request(\u001b[38;5;28mself\u001b[39m, _RUN_PATH\u001b[38;5;241m+\u001b[39m\u001b[38;5;124m\"\u001b[39m\u001b[38;5;124m/\u001b[39m\u001b[38;5;124m\"\u001b[39m\u001b[38;5;241m+\u001b[39mname, _POST, data\u001b[38;5;241m=\u001b[39m\u001b[38;5;28minput\u001b[39m, token\u001b[38;5;241m=\u001b[39mtoken)\n\u001b[1;32m    117\u001b[0m     \u001b[38;5;28;01mreturn\u001b[39;00m utils\u001b[38;5;241m.\u001b[39mmake_request(\u001b[38;5;28mself\u001b[39m, _RUN_PATH\u001b[38;5;241m+\u001b[39m\u001b[38;5;124m\"\u001b[39m\u001b[38;5;124m/\u001b[39m\u001b[38;5;124m\"\u001b[39m\u001b[38;5;241m+\u001b[39mname, _POST, token\u001b[38;5;241m=\u001b[39mtoken)\n",
      "File \u001b[0;32m~/.local/lib/python3.10/site-packages/oscar_python/client.py:126\u001b[0m, in \u001b[0;36mClient._get_token\u001b[0;34m(self, svc)\u001b[0m\n\u001b[1;32m    125\u001b[0m \u001b[38;5;28;01mdef\u001b[39;00m \u001b[38;5;21m_get_token\u001b[39m(\u001b[38;5;28mself\u001b[39m, svc):\n\u001b[0;32m--> 126\u001b[0m     service \u001b[38;5;241m=\u001b[39m \u001b[43mutils\u001b[49m\u001b[38;5;241;43m.\u001b[39;49m\u001b[43mmake_request\u001b[49m\u001b[43m(\u001b[49m\u001b[38;5;28;43mself\u001b[39;49m\u001b[43m,\u001b[49m\u001b[43m \u001b[49m\u001b[43m_SVC_PATH\u001b[49m\u001b[38;5;241;43m+\u001b[39;49m\u001b[38;5;124;43m\"\u001b[39;49m\u001b[38;5;124;43m/\u001b[39;49m\u001b[38;5;124;43m\"\u001b[39;49m\u001b[38;5;241;43m+\u001b[39;49m\u001b[43msvc\u001b[49m\u001b[43m,\u001b[49m\u001b[43m \u001b[49m\u001b[43m_GET\u001b[49m\u001b[43m)\u001b[49m\n\u001b[1;32m    127\u001b[0m     service \u001b[38;5;241m=\u001b[39m json\u001b[38;5;241m.\u001b[39mloads(service\u001b[38;5;241m.\u001b[39mtext)\n\u001b[1;32m    128\u001b[0m     \u001b[38;5;28;01mreturn\u001b[39;00m service[\u001b[38;5;124m\"\u001b[39m\u001b[38;5;124mtoken\u001b[39m\u001b[38;5;124m\"\u001b[39m]\n",
      "File \u001b[0;32m~/.local/lib/python3.10/site-packages/oscar_python/_utils.py:33\u001b[0m, in \u001b[0;36mmake_request\u001b[0;34m(c, path, method, **kwargs)\u001b[0m\n\u001b[1;32m     30\u001b[0m \u001b[38;5;28;01mif\u001b[39;00m \u001b[38;5;124m\"\u001b[39m\u001b[38;5;124mhandle\u001b[39m\u001b[38;5;124m\"\u001b[39m \u001b[38;5;129;01min\u001b[39;00m kwargs\u001b[38;5;241m.\u001b[39mkeys() \u001b[38;5;129;01mand\u001b[39;00m kwargs[\u001b[38;5;124m\"\u001b[39m\u001b[38;5;124mhandle\u001b[39m\u001b[38;5;124m\"\u001b[39m] \u001b[38;5;241m==\u001b[39m \u001b[38;5;28;01mFalse\u001b[39;00m:\n\u001b[1;32m     31\u001b[0m     \u001b[38;5;28;01mreturn\u001b[39;00m result\n\u001b[0;32m---> 33\u001b[0m \u001b[43mresult\u001b[49m\u001b[38;5;241;43m.\u001b[39;49m\u001b[43mraise_for_status\u001b[49m\u001b[43m(\u001b[49m\u001b[43m)\u001b[49m\n\u001b[1;32m     34\u001b[0m \u001b[38;5;28;01mreturn\u001b[39;00m result\n",
      "File \u001b[0;32m~/.local/lib/python3.10/site-packages/requests/models.py:1021\u001b[0m, in \u001b[0;36mResponse.raise_for_status\u001b[0;34m(self)\u001b[0m\n\u001b[1;32m   1016\u001b[0m     http_error_msg \u001b[38;5;241m=\u001b[39m (\n\u001b[1;32m   1017\u001b[0m         \u001b[38;5;124mf\u001b[39m\u001b[38;5;124m\"\u001b[39m\u001b[38;5;132;01m{\u001b[39;00m\u001b[38;5;28mself\u001b[39m\u001b[38;5;241m.\u001b[39mstatus_code\u001b[38;5;132;01m}\u001b[39;00m\u001b[38;5;124m Server Error: \u001b[39m\u001b[38;5;132;01m{\u001b[39;00mreason\u001b[38;5;132;01m}\u001b[39;00m\u001b[38;5;124m for url: \u001b[39m\u001b[38;5;132;01m{\u001b[39;00m\u001b[38;5;28mself\u001b[39m\u001b[38;5;241m.\u001b[39murl\u001b[38;5;132;01m}\u001b[39;00m\u001b[38;5;124m\"\u001b[39m\n\u001b[1;32m   1018\u001b[0m     )\n\u001b[1;32m   1020\u001b[0m \u001b[38;5;28;01mif\u001b[39;00m http_error_msg:\n\u001b[0;32m-> 1021\u001b[0m     \u001b[38;5;28;01mraise\u001b[39;00m HTTPError(http_error_msg, response\u001b[38;5;241m=\u001b[39m\u001b[38;5;28mself\u001b[39m)\n",
      "\u001b[0;31mHTTPError\u001b[0m: 404 Client Error: Not Found for url: https://happy-burnell8.im.grycap.net/system/services/plants"
     ]
    }
   ],
   "source": [
    "response = oscar_client.run_service(\"plants\", input=encoded_image)\n",
    "\n",
    "# Verificar si la respuesta es exitosa\n",
    "if response.status_code == 200:\n",
    "    # Procesar la respuesta del servicio \"plants\"\n",
    "    plants_data = response.text\n",
    "    #  print(\"Datos de las plantas:\", plants_data)\n",
    "    os.makedirs('../output/text', exist_ok=True)\n",
    "\n",
    "    output_file_path = f\"../output/text/{output_file_name}\"\n",
    "    with open(output_file_path, 'w') as f:\n",
    "        f.write(plants_data)\n",
    "\n",
    "else:\n",
    "    print(f\"Error en la ejecución del servicio 'plants': {response.status_code} {response.text}\")"
   ]
  },
  {
   "cell_type": "code",
   "execution_count": 5,
   "id": "d1ccad67-3087-447f-967f-a6ce904ae1cb",
   "metadata": {
    "execution": {
     "iopub.execute_input": "2023-05-05T08:26:33.385626Z",
     "iopub.status.busy": "2023-05-05T08:26:33.385473Z",
     "iopub.status.idle": "2023-05-05T08:26:33.635608Z",
     "shell.execute_reply": "2023-05-05T08:26:33.634859Z"
    },
    "papermill": {
     "duration": 0.252569,
     "end_time": "2023-05-05T08:26:33.636348",
     "exception": true,
     "start_time": "2023-05-05T08:26:33.383779",
     "status": "failed"
    },
    "tags": []
   },
   "outputs": [
    {
     "name": "stderr",
     "output_type": "stream",
     "text": [
      "/usr/lib/python3/dist-packages/urllib3/connectionpool.py:1015: InsecureRequestWarning: Unverified HTTPS request is being made to host 'happy-burnell8.im.grycap.net'. Adding certificate verification is strongly advised. See: https://urllib3.readthedocs.io/en/latest/advanced-usage.html#ssl-warnings\n",
      "  warnings.warn(\n"
     ]
    },
    {
     "ename": "HTTPError",
     "evalue": "404 Client Error: Not Found for url: https://happy-burnell8.im.grycap.net/system/services/plants",
     "output_type": "error",
     "traceback": [
      "\u001b[0;31m---------------------------------------------------------------------------\u001b[0m",
      "\u001b[0;31mHTTPError\u001b[0m                                 Traceback (most recent call last)",
      "Cell \u001b[0;32mIn[5], line 1\u001b[0m\n\u001b[0;32m----> 1\u001b[0m response \u001b[38;5;241m=\u001b[39m \u001b[43moscar_client\u001b[49m\u001b[38;5;241;43m.\u001b[39;49m\u001b[43mrun_service\u001b[49m\u001b[43m(\u001b[49m\u001b[38;5;124;43m\"\u001b[39;49m\u001b[38;5;124;43mplants\u001b[39;49m\u001b[38;5;124;43m\"\u001b[39;49m\u001b[43m,\u001b[49m\u001b[43m \u001b[49m\u001b[38;5;28;43minput\u001b[39;49m\u001b[38;5;241;43m=\u001b[39;49m\u001b[43mencoded_image\u001b[49m\u001b[43m)\u001b[49m\n\u001b[1;32m      3\u001b[0m \u001b[38;5;66;03m# Verificar si la respuesta es exitosa\u001b[39;00m\n\u001b[1;32m      4\u001b[0m \u001b[38;5;28;01mif\u001b[39;00m response\u001b[38;5;241m.\u001b[39mstatus_code \u001b[38;5;241m==\u001b[39m \u001b[38;5;241m200\u001b[39m:\n\u001b[1;32m      5\u001b[0m     \u001b[38;5;66;03m# Procesar la respuesta del servicio \"plants\"\u001b[39;00m\n",
      "File \u001b[0;32m~/.local/lib/python3.10/site-packages/oscar_python/client.py:115\u001b[0m, in \u001b[0;36mClient.run_service\u001b[0;34m(self, name, input)\u001b[0m\n\u001b[1;32m    114\u001b[0m \u001b[38;5;28;01mdef\u001b[39;00m \u001b[38;5;21mrun_service\u001b[39m(\u001b[38;5;28mself\u001b[39m, name, \u001b[38;5;28minput\u001b[39m\u001b[38;5;241m=\u001b[39m\u001b[38;5;124m\"\u001b[39m\u001b[38;5;124m\"\u001b[39m):\n\u001b[0;32m--> 115\u001b[0m     token \u001b[38;5;241m=\u001b[39m \u001b[38;5;28;43mself\u001b[39;49m\u001b[38;5;241;43m.\u001b[39;49m\u001b[43m_get_token\u001b[49m\u001b[43m(\u001b[49m\u001b[43mname\u001b[49m\u001b[43m)\u001b[49m\n\u001b[1;32m    116\u001b[0m     \u001b[38;5;28;01mif\u001b[39;00m \u001b[38;5;28minput\u001b[39m: \u001b[38;5;28;01mreturn\u001b[39;00m utils\u001b[38;5;241m.\u001b[39mmake_request(\u001b[38;5;28mself\u001b[39m, _RUN_PATH\u001b[38;5;241m+\u001b[39m\u001b[38;5;124m\"\u001b[39m\u001b[38;5;124m/\u001b[39m\u001b[38;5;124m\"\u001b[39m\u001b[38;5;241m+\u001b[39mname, _POST, data\u001b[38;5;241m=\u001b[39m\u001b[38;5;28minput\u001b[39m, token\u001b[38;5;241m=\u001b[39mtoken)\n\u001b[1;32m    117\u001b[0m     \u001b[38;5;28;01mreturn\u001b[39;00m utils\u001b[38;5;241m.\u001b[39mmake_request(\u001b[38;5;28mself\u001b[39m, _RUN_PATH\u001b[38;5;241m+\u001b[39m\u001b[38;5;124m\"\u001b[39m\u001b[38;5;124m/\u001b[39m\u001b[38;5;124m\"\u001b[39m\u001b[38;5;241m+\u001b[39mname, _POST, token\u001b[38;5;241m=\u001b[39mtoken)\n",
      "File \u001b[0;32m~/.local/lib/python3.10/site-packages/oscar_python/client.py:126\u001b[0m, in \u001b[0;36mClient._get_token\u001b[0;34m(self, svc)\u001b[0m\n\u001b[1;32m    125\u001b[0m \u001b[38;5;28;01mdef\u001b[39;00m \u001b[38;5;21m_get_token\u001b[39m(\u001b[38;5;28mself\u001b[39m, svc):\n\u001b[0;32m--> 126\u001b[0m     service \u001b[38;5;241m=\u001b[39m \u001b[43mutils\u001b[49m\u001b[38;5;241;43m.\u001b[39;49m\u001b[43mmake_request\u001b[49m\u001b[43m(\u001b[49m\u001b[38;5;28;43mself\u001b[39;49m\u001b[43m,\u001b[49m\u001b[43m \u001b[49m\u001b[43m_SVC_PATH\u001b[49m\u001b[38;5;241;43m+\u001b[39;49m\u001b[38;5;124;43m\"\u001b[39;49m\u001b[38;5;124;43m/\u001b[39;49m\u001b[38;5;124;43m\"\u001b[39;49m\u001b[38;5;241;43m+\u001b[39;49m\u001b[43msvc\u001b[49m\u001b[43m,\u001b[49m\u001b[43m \u001b[49m\u001b[43m_GET\u001b[49m\u001b[43m)\u001b[49m\n\u001b[1;32m    127\u001b[0m     service \u001b[38;5;241m=\u001b[39m json\u001b[38;5;241m.\u001b[39mloads(service\u001b[38;5;241m.\u001b[39mtext)\n\u001b[1;32m    128\u001b[0m     \u001b[38;5;28;01mreturn\u001b[39;00m service[\u001b[38;5;124m\"\u001b[39m\u001b[38;5;124mtoken\u001b[39m\u001b[38;5;124m\"\u001b[39m]\n",
      "File \u001b[0;32m~/.local/lib/python3.10/site-packages/oscar_python/_utils.py:33\u001b[0m, in \u001b[0;36mmake_request\u001b[0;34m(c, path, method, **kwargs)\u001b[0m\n\u001b[1;32m     30\u001b[0m \u001b[38;5;28;01mif\u001b[39;00m \u001b[38;5;124m\"\u001b[39m\u001b[38;5;124mhandle\u001b[39m\u001b[38;5;124m\"\u001b[39m \u001b[38;5;129;01min\u001b[39;00m kwargs\u001b[38;5;241m.\u001b[39mkeys() \u001b[38;5;129;01mand\u001b[39;00m kwargs[\u001b[38;5;124m\"\u001b[39m\u001b[38;5;124mhandle\u001b[39m\u001b[38;5;124m\"\u001b[39m] \u001b[38;5;241m==\u001b[39m \u001b[38;5;28;01mFalse\u001b[39;00m:\n\u001b[1;32m     31\u001b[0m     \u001b[38;5;28;01mreturn\u001b[39;00m result\n\u001b[0;32m---> 33\u001b[0m \u001b[43mresult\u001b[49m\u001b[38;5;241;43m.\u001b[39;49m\u001b[43mraise_for_status\u001b[49m\u001b[43m(\u001b[49m\u001b[43m)\u001b[49m\n\u001b[1;32m     34\u001b[0m \u001b[38;5;28;01mreturn\u001b[39;00m result\n",
      "File \u001b[0;32m~/.local/lib/python3.10/site-packages/requests/models.py:1021\u001b[0m, in \u001b[0;36mResponse.raise_for_status\u001b[0;34m(self)\u001b[0m\n\u001b[1;32m   1016\u001b[0m     http_error_msg \u001b[38;5;241m=\u001b[39m (\n\u001b[1;32m   1017\u001b[0m         \u001b[38;5;124mf\u001b[39m\u001b[38;5;124m\"\u001b[39m\u001b[38;5;132;01m{\u001b[39;00m\u001b[38;5;28mself\u001b[39m\u001b[38;5;241m.\u001b[39mstatus_code\u001b[38;5;132;01m}\u001b[39;00m\u001b[38;5;124m Server Error: \u001b[39m\u001b[38;5;132;01m{\u001b[39;00mreason\u001b[38;5;132;01m}\u001b[39;00m\u001b[38;5;124m for url: \u001b[39m\u001b[38;5;132;01m{\u001b[39;00m\u001b[38;5;28mself\u001b[39m\u001b[38;5;241m.\u001b[39murl\u001b[38;5;132;01m}\u001b[39;00m\u001b[38;5;124m\"\u001b[39m\n\u001b[1;32m   1018\u001b[0m     )\n\u001b[1;32m   1020\u001b[0m \u001b[38;5;28;01mif\u001b[39;00m http_error_msg:\n\u001b[0;32m-> 1021\u001b[0m     \u001b[38;5;28;01mraise\u001b[39;00m HTTPError(http_error_msg, response\u001b[38;5;241m=\u001b[39m\u001b[38;5;28mself\u001b[39m)\n",
      "\u001b[0;31mHTTPError\u001b[0m: 404 Client Error: Not Found for url: https://happy-burnell8.im.grycap.net/system/services/plants"
     ]
    }
   ],
   "source": [
    "response = oscar_client.run_service(\"plants\", input=encoded_image)\n",
    "\n",
    "# Verificar si la respuesta es exitosa\n",
    "if response.status_code == 200:\n",
    "    # Procesar la respuesta del servicio \"plants\"\n",
    "    plants_data = response.text\n",
    "    #  print(\"Datos de las plantas:\", plants_data)\n",
    "    os.makedirs('../output/text', exist_ok=True)\n",
    "\n",
    "    output_file_path = f\"../output/text/{output_file_name}\"\n",
    "    with open(output_file_path, 'w') as f:\n",
    "        f.write(plants_data)\n",
    "\n",
    "else:\n",
    "    print(f\"Error en la ejecución del servicio 'plants': {response.status_code} {response.text}\")"
   ]
  }
 ],
 "metadata": {
  "kernelspec": {
   "display_name": "Python 3 (ipykernel)",
   "language": "python",
   "name": "python3"
  },
  "language_info": {
   "codemirror_mode": {
    "name": "ipython",
    "version": 3
   },
   "file_extension": ".py",
   "mimetype": "text/x-python",
   "name": "python",
   "nbconvert_exporter": "python",
   "pygments_lexer": "ipython3",
   "version": "3.10.6"
  },
  "papermill": {
   "default_parameters": {},
   "duration": 1.23355,
   "end_time": "2023-05-05T08:26:33.856187",
   "environment_variables": {},
   "exception": true,
   "input_path": "/home/dieagra/Desktop/Stuff/oscar_elyra/notebooks/Oscar_Client.ipynb",
   "output_path": "/home/dieagra/Desktop/Stuff/oscar_elyra/notebooks/Oscar_Client.ipynb",
   "parameters": {},
   "start_time": "2023-05-05T08:26:32.622637",
   "version": "2.4.0"
  }
 },
 "nbformat": 4,
 "nbformat_minor": 5
}
