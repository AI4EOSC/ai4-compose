{
 "cells": [
  {
   "cell_type": "markdown",
   "id": "8df50e54",
   "metadata": {
    "tags": [
     "papermill-error-cell-tag"
    ]
   },
   "source": [
    "<span style=\"color:red; font-family:Helvetica Neue, Helvetica, Arial, sans-serif; font-size:2em;\">An Exception was encountered at '<a href=\"#papermill-error-cell\">In [6]</a>'.</span>"
   ]
  },
  {
   "cell_type": "markdown",
   "id": "4a582302-1262-4748-9759-3c7dfd9f048f",
   "metadata": {
    "papermill": {
     "duration": 0.004345,
     "end_time": "2023-05-22T07:38:46.563188",
     "exception": false,
     "start_time": "2023-05-22T07:38:46.558843",
     "status": "completed"
    },
    "tags": []
   },
   "source": [
    "# Import libraries"
   ]
  },
  {
   "cell_type": "code",
   "execution_count": 1,
   "id": "263eb0c8-2061-488d-a047-68bdb7afeb7d",
   "metadata": {
    "execution": {
     "iopub.execute_input": "2023-05-22T07:38:46.576991Z",
     "iopub.status.busy": "2023-05-22T07:38:46.576561Z",
     "iopub.status.idle": "2023-05-22T07:38:46.710779Z",
     "shell.execute_reply": "2023-05-22T07:38:46.710308Z"
    },
    "papermill": {
     "duration": 0.141054,
     "end_time": "2023-05-22T07:38:46.711979",
     "exception": false,
     "start_time": "2023-05-22T07:38:46.570925",
     "status": "completed"
    },
    "tags": []
   },
   "outputs": [],
   "source": [
    "import os\n",
    "import json\n",
    "from oscar_python.client import Client"
   ]
  },
  {
   "cell_type": "markdown",
   "id": "ba4bfca4-7937-47e9-ba62-822266f9c651",
   "metadata": {
    "papermill": {
     "duration": 0.007578,
     "end_time": "2023-05-22T07:38:46.721056",
     "exception": false,
     "start_time": "2023-05-22T07:38:46.713478",
     "status": "completed"
    },
    "tags": []
   },
   "source": [
    "# Read credentials"
   ]
  },
  {
   "cell_type": "code",
   "execution_count": 2,
   "id": "7d1fd172-a67d-465a-91ed-c0f5ee7026b7",
   "metadata": {
    "execution": {
     "iopub.execute_input": "2023-05-22T07:38:46.724521Z",
     "iopub.status.busy": "2023-05-22T07:38:46.724287Z",
     "iopub.status.idle": "2023-05-22T07:38:46.727207Z",
     "shell.execute_reply": "2023-05-22T07:38:46.726851Z"
    },
    "papermill": {
     "duration": 0.00556,
     "end_time": "2023-05-22T07:38:46.727986",
     "exception": false,
     "start_time": "2023-05-22T07:38:46.722426",
     "status": "completed"
    },
    "tags": []
   },
   "outputs": [],
   "source": [
    "json_path = os.path.join(\"../../input/credentials\", os.environ.get(\"JSON_NAME\") + \".json\")\n",
    "with open(json_path) as f:\n",
    "    credentials = json.load(f)"
   ]
  },
  {
   "cell_type": "markdown",
   "id": "e4063125-74e9-4d39-b380-f77614a167ce",
   "metadata": {
    "papermill": {
     "duration": 0.001245,
     "end_time": "2023-05-22T07:38:46.730566",
     "exception": false,
     "start_time": "2023-05-22T07:38:46.729321",
     "status": "completed"
    },
    "tags": []
   },
   "source": [
    "# Create OSCAR client with the credentials"
   ]
  },
  {
   "cell_type": "code",
   "execution_count": 3,
   "id": "d4d8b047-6ff0-4c3c-831e-c4753bdd43ea",
   "metadata": {
    "execution": {
     "iopub.execute_input": "2023-05-22T07:38:46.733865Z",
     "iopub.status.busy": "2023-05-22T07:38:46.733703Z",
     "iopub.status.idle": "2023-05-22T07:38:46.736247Z",
     "shell.execute_reply": "2023-05-22T07:38:46.735867Z"
    },
    "papermill": {
     "duration": 0.00558,
     "end_time": "2023-05-22T07:38:46.737349",
     "exception": false,
     "start_time": "2023-05-22T07:38:46.731769",
     "status": "completed"
    },
    "tags": []
   },
   "outputs": [],
   "source": [
    "oscar_client = Client(\n",
    "    id=credentials[\"ID\"],\n",
    "    endpoint=credentials[\"ENDPOINT\"],\n",
    "    user=credentials[\"USER\"],\n",
    "    password=credentials[\"PASSWORD\"],\n",
    "    ssl=True\n",
    ")"
   ]
  },
  {
   "cell_type": "markdown",
   "id": "5394de5b-209d-48d6-8a99-5b52fae82f1d",
   "metadata": {
    "papermill": {
     "duration": 0.001448,
     "end_time": "2023-05-22T07:38:46.740385",
     "exception": false,
     "start_time": "2023-05-22T07:38:46.738937",
     "status": "completed"
    },
    "tags": []
   },
   "source": [
    "# Read text base 64 input"
   ]
  },
  {
   "cell_type": "code",
   "execution_count": 4,
   "id": "9d3b4ba9-8b1b-4756-93c2-8a5b03ebc8d1",
   "metadata": {
    "execution": {
     "iopub.execute_input": "2023-05-22T07:38:46.743612Z",
     "iopub.status.busy": "2023-05-22T07:38:46.743407Z",
     "iopub.status.idle": "2023-05-22T07:38:46.745947Z",
     "shell.execute_reply": "2023-05-22T07:38:46.745603Z"
    },
    "papermill": {
     "duration": 0.005225,
     "end_time": "2023-05-22T07:38:46.746864",
     "exception": false,
     "start_time": "2023-05-22T07:38:46.741639",
     "status": "completed"
    },
    "tags": []
   },
   "outputs": [],
   "source": [
    "image_name = os.environ.get(\"B64_INPUT\")\n",
    "output_file_name = os.getenv(\"DATA_OUTPUT\")\n",
    "output_file = f\"../../input/data/{image_name.rsplit('.', 1)[0]}.txt\"\n",
    "\n",
    "with open(output_file, \"r\") as txt_file:\n",
    "    encoded_image = txt_file.read()"
   ]
  },
  {
   "cell_type": "markdown",
   "id": "9f10caa6-316a-45aa-8e9b-6a53a0a4dd58",
   "metadata": {
    "papermill": {
     "duration": 0.00127,
     "end_time": "2023-05-22T07:38:46.749480",
     "exception": false,
     "start_time": "2023-05-22T07:38:46.748210",
     "status": "completed"
    },
    "tags": []
   },
   "source": [
    "# Create oscar service: cowsay"
   ]
  },
  {
   "cell_type": "code",
   "execution_count": 5,
   "id": "f6b8bfa3-131f-464c-aeab-47a5d61cc093",
   "metadata": {
    "execution": {
     "iopub.execute_input": "2023-05-22T07:38:46.752950Z",
     "iopub.status.busy": "2023-05-22T07:38:46.752798Z",
     "iopub.status.idle": "2023-05-22T07:38:46.887651Z",
     "shell.execute_reply": "2023-05-22T07:38:46.886803Z"
    },
    "papermill": {
     "duration": 0.139551,
     "end_time": "2023-05-22T07:38:46.890277",
     "exception": false,
     "start_time": "2023-05-22T07:38:46.750726",
     "status": "completed"
    },
    "tags": []
   },
   "outputs": [
    {
     "name": "stdout",
     "output_type": "stream",
     "text": [
      "Error creating service:  A service with name 'grayify' is already present on the cluster\n"
     ]
    }
   ],
   "source": [
    "try:\n",
    "    oscar_client.create_service(\"grayify.yaml\")\n",
    "    print(\"Service created\")\n",
    "except Exception as ex:\n",
    "    print(\"Error creating service: \", ex)"
   ]
  },
  {
   "cell_type": "markdown",
   "id": "a54b3732-e2d0-4c66-a089-32328c212207",
   "metadata": {
    "papermill": {
     "duration": 0.007496,
     "end_time": "2023-05-22T07:38:46.901910",
     "exception": false,
     "start_time": "2023-05-22T07:38:46.894414",
     "status": "completed"
    },
    "tags": []
   },
   "source": [
    "# Use the service"
   ]
  },
  {
   "cell_type": "markdown",
   "id": "5bd87ad5",
   "metadata": {
    "tags": [
     "papermill-error-cell-tag"
    ]
   },
   "source": [
    "<span id=\"papermill-error-cell\" style=\"color:red; font-family:Helvetica Neue, Helvetica, Arial, sans-serif; font-size:2em;\">Execution using papermill encountered an exception here and stopped:</span>"
   ]
  },
  {
   "cell_type": "code",
   "execution_count": 6,
   "id": "f97746a2-eb2e-49d1-85dd-99b55d704347",
   "metadata": {
    "execution": {
     "iopub.execute_input": "2023-05-22T07:38:46.910979Z",
     "iopub.status.busy": "2023-05-22T07:38:46.910671Z",
     "iopub.status.idle": "2023-05-22T07:38:47.208274Z",
     "shell.execute_reply": "2023-05-22T07:38:47.207662Z"
    },
    "papermill": {
     "duration": 0.303374,
     "end_time": "2023-05-22T07:38:47.209248",
     "exception": true,
     "start_time": "2023-05-22T07:38:46.905874",
     "status": "failed"
    },
    "tags": []
   },
   "outputs": [
    {
     "ename": "HTTPError",
     "evalue": "404 Client Error: Not Found for url: https://ecstatic-wing3.im.grycap.net/system/services/grafify",
     "output_type": "error",
     "traceback": [
      "\u001b[0;31m---------------------------------------------------------------------------\u001b[0m",
      "\u001b[0;31mHTTPError\u001b[0m                                 Traceback (most recent call last)",
      "Cell \u001b[0;32mIn[6], line 1\u001b[0m\n\u001b[0;32m----> 1\u001b[0m response \u001b[38;5;241m=\u001b[39m \u001b[43moscar_client\u001b[49m\u001b[38;5;241;43m.\u001b[39;49m\u001b[43mrun_service\u001b[49m\u001b[43m(\u001b[49m\u001b[38;5;124;43m\"\u001b[39;49m\u001b[38;5;124;43mgrafify\u001b[39;49m\u001b[38;5;124;43m\"\u001b[39;49m\u001b[43m,\u001b[49m\u001b[43m \u001b[49m\u001b[38;5;28;43minput\u001b[39;49m\u001b[38;5;241;43m=\u001b[39;49m\u001b[43mencoded_image\u001b[49m\u001b[43m)\u001b[49m\n\u001b[1;32m      3\u001b[0m \u001b[38;5;66;03m# Verify if response is complete\u001b[39;00m\n\u001b[1;32m      4\u001b[0m \u001b[38;5;28;01mif\u001b[39;00m response\u001b[38;5;241m.\u001b[39mstatus_code \u001b[38;5;241m==\u001b[39m \u001b[38;5;241m200\u001b[39m:\n\u001b[1;32m      5\u001b[0m     \u001b[38;5;66;03m# Process grayify service response\u001b[39;00m\n",
      "File \u001b[0;32m~/.local/lib/python3.10/site-packages/oscar_python/client.py:115\u001b[0m, in \u001b[0;36mClient.run_service\u001b[0;34m(self, name, input)\u001b[0m\n\u001b[1;32m    114\u001b[0m \u001b[38;5;28;01mdef\u001b[39;00m \u001b[38;5;21mrun_service\u001b[39m(\u001b[38;5;28mself\u001b[39m, name, \u001b[38;5;28minput\u001b[39m\u001b[38;5;241m=\u001b[39m\u001b[38;5;124m\"\u001b[39m\u001b[38;5;124m\"\u001b[39m):\n\u001b[0;32m--> 115\u001b[0m     token \u001b[38;5;241m=\u001b[39m \u001b[38;5;28;43mself\u001b[39;49m\u001b[38;5;241;43m.\u001b[39;49m\u001b[43m_get_token\u001b[49m\u001b[43m(\u001b[49m\u001b[43mname\u001b[49m\u001b[43m)\u001b[49m\n\u001b[1;32m    116\u001b[0m     \u001b[38;5;28;01mif\u001b[39;00m \u001b[38;5;28minput\u001b[39m: \u001b[38;5;28;01mreturn\u001b[39;00m utils\u001b[38;5;241m.\u001b[39mmake_request(\u001b[38;5;28mself\u001b[39m, _RUN_PATH\u001b[38;5;241m+\u001b[39m\u001b[38;5;124m\"\u001b[39m\u001b[38;5;124m/\u001b[39m\u001b[38;5;124m\"\u001b[39m\u001b[38;5;241m+\u001b[39mname, _POST, data\u001b[38;5;241m=\u001b[39m\u001b[38;5;28minput\u001b[39m, token\u001b[38;5;241m=\u001b[39mtoken)\n\u001b[1;32m    117\u001b[0m     \u001b[38;5;28;01mreturn\u001b[39;00m utils\u001b[38;5;241m.\u001b[39mmake_request(\u001b[38;5;28mself\u001b[39m, _RUN_PATH\u001b[38;5;241m+\u001b[39m\u001b[38;5;124m\"\u001b[39m\u001b[38;5;124m/\u001b[39m\u001b[38;5;124m\"\u001b[39m\u001b[38;5;241m+\u001b[39mname, _POST, token\u001b[38;5;241m=\u001b[39mtoken)\n",
      "File \u001b[0;32m~/.local/lib/python3.10/site-packages/oscar_python/client.py:126\u001b[0m, in \u001b[0;36mClient._get_token\u001b[0;34m(self, svc)\u001b[0m\n\u001b[1;32m    125\u001b[0m \u001b[38;5;28;01mdef\u001b[39;00m \u001b[38;5;21m_get_token\u001b[39m(\u001b[38;5;28mself\u001b[39m, svc):\n\u001b[0;32m--> 126\u001b[0m     service \u001b[38;5;241m=\u001b[39m \u001b[43mutils\u001b[49m\u001b[38;5;241;43m.\u001b[39;49m\u001b[43mmake_request\u001b[49m\u001b[43m(\u001b[49m\u001b[38;5;28;43mself\u001b[39;49m\u001b[43m,\u001b[49m\u001b[43m \u001b[49m\u001b[43m_SVC_PATH\u001b[49m\u001b[38;5;241;43m+\u001b[39;49m\u001b[38;5;124;43m\"\u001b[39;49m\u001b[38;5;124;43m/\u001b[39;49m\u001b[38;5;124;43m\"\u001b[39;49m\u001b[38;5;241;43m+\u001b[39;49m\u001b[43msvc\u001b[49m\u001b[43m,\u001b[49m\u001b[43m \u001b[49m\u001b[43m_GET\u001b[49m\u001b[43m)\u001b[49m\n\u001b[1;32m    127\u001b[0m     service \u001b[38;5;241m=\u001b[39m json\u001b[38;5;241m.\u001b[39mloads(service\u001b[38;5;241m.\u001b[39mtext)\n\u001b[1;32m    128\u001b[0m     \u001b[38;5;28;01mreturn\u001b[39;00m service[\u001b[38;5;124m\"\u001b[39m\u001b[38;5;124mtoken\u001b[39m\u001b[38;5;124m\"\u001b[39m]\n",
      "File \u001b[0;32m~/.local/lib/python3.10/site-packages/oscar_python/_utils.py:33\u001b[0m, in \u001b[0;36mmake_request\u001b[0;34m(c, path, method, **kwargs)\u001b[0m\n\u001b[1;32m     30\u001b[0m \u001b[38;5;28;01mif\u001b[39;00m \u001b[38;5;124m\"\u001b[39m\u001b[38;5;124mhandle\u001b[39m\u001b[38;5;124m\"\u001b[39m \u001b[38;5;129;01min\u001b[39;00m kwargs\u001b[38;5;241m.\u001b[39mkeys() \u001b[38;5;129;01mand\u001b[39;00m kwargs[\u001b[38;5;124m\"\u001b[39m\u001b[38;5;124mhandle\u001b[39m\u001b[38;5;124m\"\u001b[39m] \u001b[38;5;241m==\u001b[39m \u001b[38;5;28;01mFalse\u001b[39;00m:\n\u001b[1;32m     31\u001b[0m     \u001b[38;5;28;01mreturn\u001b[39;00m result\n\u001b[0;32m---> 33\u001b[0m \u001b[43mresult\u001b[49m\u001b[38;5;241;43m.\u001b[39;49m\u001b[43mraise_for_status\u001b[49m\u001b[43m(\u001b[49m\u001b[43m)\u001b[49m\n\u001b[1;32m     34\u001b[0m \u001b[38;5;28;01mreturn\u001b[39;00m result\n",
      "File \u001b[0;32m~/.local/lib/python3.10/site-packages/requests/models.py:1021\u001b[0m, in \u001b[0;36mResponse.raise_for_status\u001b[0;34m(self)\u001b[0m\n\u001b[1;32m   1016\u001b[0m     http_error_msg \u001b[38;5;241m=\u001b[39m (\n\u001b[1;32m   1017\u001b[0m         \u001b[38;5;124mf\u001b[39m\u001b[38;5;124m\"\u001b[39m\u001b[38;5;132;01m{\u001b[39;00m\u001b[38;5;28mself\u001b[39m\u001b[38;5;241m.\u001b[39mstatus_code\u001b[38;5;132;01m}\u001b[39;00m\u001b[38;5;124m Server Error: \u001b[39m\u001b[38;5;132;01m{\u001b[39;00mreason\u001b[38;5;132;01m}\u001b[39;00m\u001b[38;5;124m for url: \u001b[39m\u001b[38;5;132;01m{\u001b[39;00m\u001b[38;5;28mself\u001b[39m\u001b[38;5;241m.\u001b[39murl\u001b[38;5;132;01m}\u001b[39;00m\u001b[38;5;124m\"\u001b[39m\n\u001b[1;32m   1018\u001b[0m     )\n\u001b[1;32m   1020\u001b[0m \u001b[38;5;28;01mif\u001b[39;00m http_error_msg:\n\u001b[0;32m-> 1021\u001b[0m     \u001b[38;5;28;01mraise\u001b[39;00m HTTPError(http_error_msg, response\u001b[38;5;241m=\u001b[39m\u001b[38;5;28mself\u001b[39m)\n",
      "\u001b[0;31mHTTPError\u001b[0m: 404 Client Error: Not Found for url: https://ecstatic-wing3.im.grycap.net/system/services/grafify"
     ]
    }
   ],
   "source": [
    "response = oscar_client.run_service(\"grayify\", input=encoded_image)\n",
    "\n",
    "# Verify if response is complete\n",
    "if response.status_code == 200:\n",
    "    # Process grayify service response\n",
    "    data = response.text\n",
    "    #  print(\"data:\", data)\n",
    "    os.makedirs('../../output/text', exist_ok=True)\n",
    "\n",
    "    output_file_path = f\"../../output/text/{output_file_name}\"\n",
    "    with open(output_file_path, 'w') as f:\n",
    "        f.write(data)\n",
    "\n",
    "else:\n",
    "    print(f\"Error en la ejecución del servicio 'grayify': {response.status_code} {response.text}\")"
   ]
  }
 ],
 "metadata": {
  "kernelspec": {
   "display_name": "Python 3 (ipykernel)",
   "language": "python",
   "name": "python3"
  },
  "language_info": {
   "codemirror_mode": {
    "name": "ipython",
    "version": 3
   },
   "file_extension": ".py",
   "mimetype": "text/x-python",
   "name": "python",
   "nbconvert_exporter": "python",
   "pygments_lexer": "ipython3",
   "version": "3.10.6"
  },
  "papermill": {
   "default_parameters": {},
   "duration": 1.4602,
   "end_time": "2023-05-22T07:38:47.427557",
   "environment_variables": {},
   "exception": true,
   "input_path": "/home/dieagra/Desktop/Stuff/oscar_elyra/services/grayify/oscar_grayify.ipynb",
   "output_path": "/home/dieagra/Desktop/Stuff/oscar_elyra/services/grayify/oscar_grayify.ipynb",
   "parameters": {},
   "start_time": "2023-05-22T07:38:45.967357",
   "version": "2.4.0"
  }
 },
 "nbformat": 4,
 "nbformat_minor": 5
}
