{
 "cells": [
  {
   "cell_type": "markdown",
   "id": "4a582302-1262-4748-9759-3c7dfd9f048f",
   "metadata": {
    "papermill": {
     "duration": 0.004442,
     "end_time": "2023-05-22T10:37:23.998065",
     "exception": false,
     "start_time": "2023-05-22T10:37:23.993623",
     "status": "completed"
    },
    "tags": []
   },
   "source": [
    "# Import libraries"
   ]
  },
  {
   "cell_type": "code",
   "execution_count": 1,
   "id": "263eb0c8-2061-488d-a047-68bdb7afeb7d",
   "metadata": {
    "execution": {
     "iopub.execute_input": "2023-05-22T10:37:24.012043Z",
     "iopub.status.busy": "2023-05-22T10:37:24.011511Z",
     "iopub.status.idle": "2023-05-22T10:37:24.165256Z",
     "shell.execute_reply": "2023-05-22T10:37:24.164794Z"
    },
    "papermill": {
     "duration": 0.160755,
     "end_time": "2023-05-22T10:37:24.166552",
     "exception": false,
     "start_time": "2023-05-22T10:37:24.005797",
     "status": "completed"
    },
    "tags": []
   },
   "outputs": [],
   "source": [
    "import os\n",
    "import json\n",
    "from oscar_python.client import Client"
   ]
  },
  {
   "cell_type": "markdown",
   "id": "ba4bfca4-7937-47e9-ba62-822266f9c651",
   "metadata": {
    "papermill": {
     "duration": 0.001479,
     "end_time": "2023-05-22T10:37:24.169520",
     "exception": false,
     "start_time": "2023-05-22T10:37:24.168041",
     "status": "completed"
    },
    "tags": []
   },
   "source": [
    "# Read credentials"
   ]
  },
  {
   "cell_type": "code",
   "execution_count": 2,
   "id": "7d1fd172-a67d-465a-91ed-c0f5ee7026b7",
   "metadata": {
    "execution": {
     "iopub.execute_input": "2023-05-22T10:37:24.173384Z",
     "iopub.status.busy": "2023-05-22T10:37:24.173105Z",
     "iopub.status.idle": "2023-05-22T10:37:24.176013Z",
     "shell.execute_reply": "2023-05-22T10:37:24.175595Z"
    },
    "papermill": {
     "duration": 0.006086,
     "end_time": "2023-05-22T10:37:24.177112",
     "exception": false,
     "start_time": "2023-05-22T10:37:24.171026",
     "status": "completed"
    },
    "tags": []
   },
   "outputs": [],
   "source": [
    "json_path = os.path.join(\"../../input/credentials\", os.environ.get(\"JSON_NAME\") + \".json\")\n",
    "with open(json_path) as f:\n",
    "    credentials = json.load(f)"
   ]
  },
  {
   "cell_type": "markdown",
   "id": "e4063125-74e9-4d39-b380-f77614a167ce",
   "metadata": {
    "papermill": {
     "duration": 0.001291,
     "end_time": "2023-05-22T10:37:24.179862",
     "exception": false,
     "start_time": "2023-05-22T10:37:24.178571",
     "status": "completed"
    },
    "tags": []
   },
   "source": [
    "# Create OSCAR client with the credentials"
   ]
  },
  {
   "cell_type": "code",
   "execution_count": 3,
   "id": "d4d8b047-6ff0-4c3c-831e-c4753bdd43ea",
   "metadata": {
    "execution": {
     "iopub.execute_input": "2023-05-22T10:37:24.183158Z",
     "iopub.status.busy": "2023-05-22T10:37:24.182994Z",
     "iopub.status.idle": "2023-05-22T10:37:24.185331Z",
     "shell.execute_reply": "2023-05-22T10:37:24.185003Z"
    },
    "papermill": {
     "duration": 0.004994,
     "end_time": "2023-05-22T10:37:24.186107",
     "exception": false,
     "start_time": "2023-05-22T10:37:24.181113",
     "status": "completed"
    },
    "tags": []
   },
   "outputs": [],
   "source": [
    "oscar_client = Client(\n",
    "    id=credentials[\"ID\"],\n",
    "    endpoint=credentials[\"ENDPOINT\"],\n",
    "    user=credentials[\"USER\"],\n",
    "    password=credentials[\"PASSWORD\"],\n",
    "    ssl=True\n",
    ")"
   ]
  },
  {
   "cell_type": "markdown",
   "id": "5394de5b-209d-48d6-8a99-5b52fae82f1d",
   "metadata": {
    "papermill": {
     "duration": 0.002383,
     "end_time": "2023-05-22T10:37:24.190177",
     "exception": false,
     "start_time": "2023-05-22T10:37:24.187794",
     "status": "completed"
    },
    "tags": []
   },
   "source": [
    "# Read text base 64 input"
   ]
  },
  {
   "cell_type": "code",
   "execution_count": 4,
   "id": "9d3b4ba9-8b1b-4756-93c2-8a5b03ebc8d1",
   "metadata": {
    "execution": {
     "iopub.execute_input": "2023-05-22T10:37:24.199999Z",
     "iopub.status.busy": "2023-05-22T10:37:24.199763Z",
     "iopub.status.idle": "2023-05-22T10:37:24.202450Z",
     "shell.execute_reply": "2023-05-22T10:37:24.202125Z"
    },
    "papermill": {
     "duration": 0.005976,
     "end_time": "2023-05-22T10:37:24.203259",
     "exception": false,
     "start_time": "2023-05-22T10:37:24.197283",
     "status": "completed"
    },
    "tags": []
   },
   "outputs": [],
   "source": [
    "image_name = os.environ.get(\"B64_INPUT\")\n",
    "output_file_name = os.getenv(\"DATA_OUTPUT\")\n",
    "output_file = f\"../../input/data/{image_name.rsplit('.', 1)[0]}.txt\"\n",
    "\n",
    "with open(output_file, \"r\") as txt_file:\n",
    "    encoded_image = txt_file.read()"
   ]
  },
  {
   "cell_type": "markdown",
   "id": "9f10caa6-316a-45aa-8e9b-6a53a0a4dd58",
   "metadata": {
    "papermill": {
     "duration": 0.001592,
     "end_time": "2023-05-22T10:37:24.208290",
     "exception": false,
     "start_time": "2023-05-22T10:37:24.206698",
     "status": "completed"
    },
    "tags": []
   },
   "source": [
    "# Create oscar service: cowsay"
   ]
  },
  {
   "cell_type": "code",
   "execution_count": 5,
   "id": "f6b8bfa3-131f-464c-aeab-47a5d61cc093",
   "metadata": {
    "execution": {
     "iopub.execute_input": "2023-05-22T10:37:24.211863Z",
     "iopub.status.busy": "2023-05-22T10:37:24.211599Z",
     "iopub.status.idle": "2023-05-22T10:37:24.416031Z",
     "shell.execute_reply": "2023-05-22T10:37:24.414765Z"
    },
    "papermill": {
     "duration": 0.209114,
     "end_time": "2023-05-22T10:37:24.418734",
     "exception": false,
     "start_time": "2023-05-22T10:37:24.209620",
     "status": "completed"
    },
    "tags": []
   },
   "outputs": [
    {
     "name": "stdout",
     "output_type": "stream",
     "text": [
      "Error creating service:  A service with name 'grayify' is already present on the cluster\n"
     ]
    }
   ],
   "source": [
    "try:\n",
    "    oscar_client.create_service(\"grayify.yaml\")\n",
    "    print(\"Service created\")\n",
    "except Exception as ex:\n",
    "    print(\"Error creating service: \", ex)"
   ]
  },
  {
   "cell_type": "markdown",
   "id": "a54b3732-e2d0-4c66-a089-32328c212207",
   "metadata": {
    "papermill": {
     "duration": 0.007536,
     "end_time": "2023-05-22T10:37:24.430669",
     "exception": false,
     "start_time": "2023-05-22T10:37:24.423133",
     "status": "completed"
    },
    "tags": []
   },
   "source": [
    "# Use the service"
   ]
  },
  {
   "cell_type": "code",
   "execution_count": 6,
   "id": "f97746a2-eb2e-49d1-85dd-99b55d704347",
   "metadata": {
    "execution": {
     "iopub.execute_input": "2023-05-22T10:37:24.438862Z",
     "iopub.status.busy": "2023-05-22T10:37:24.438580Z",
     "iopub.status.idle": "2023-05-22T10:37:28.858988Z",
     "shell.execute_reply": "2023-05-22T10:37:28.857578Z"
    },
    "papermill": {
     "duration": 4.428486,
     "end_time": "2023-05-22T10:37:28.862888",
     "exception": false,
     "start_time": "2023-05-22T10:37:24.434402",
     "status": "completed"
    },
    "tags": []
   },
   "outputs": [],
   "source": [
    "response = oscar_client.run_service(\"grayify\", input=encoded_image)\n",
    "\n",
    "# Verify if response is complete\n",
    "if response.status_code == 200:\n",
    "    # Process grayify service response\n",
    "    data = response.text\n",
    "    #  print(\"data:\", data)\n",
    "    os.makedirs('../../output/text', exist_ok=True)\n",
    "\n",
    "    output_file_path = f\"../../output/text/{output_file_name}\"\n",
    "    with open(output_file_path, 'w') as f:\n",
    "        f.write(data)\n",
    "\n",
    "else:\n",
    "    print(f\"Error en la ejecución del servicio 'grayify': {response.status_code} {response.text}\")"
   ]
  }
 ],
 "metadata": {
  "kernelspec": {
   "display_name": "Python 3 (ipykernel)",
   "language": "python",
   "name": "python3"
  },
  "language_info": {
   "codemirror_mode": {
    "name": "ipython",
    "version": 3
   },
   "file_extension": ".py",
   "mimetype": "text/x-python",
   "name": "python",
   "nbconvert_exporter": "python",
   "pygments_lexer": "ipython3",
   "version": "3.10.6"
  },
  "papermill": {
   "default_parameters": {},
   "duration": 5.889161,
   "end_time": "2023-05-22T10:37:29.088846",
   "environment_variables": {},
   "exception": null,
   "input_path": "/home/dieagra/Desktop/Stuff/oscar_elyra/services/grayify/oscar_grayify.ipynb",
   "output_path": "/home/dieagra/Desktop/Stuff/oscar_elyra/services/grayify/oscar_grayify.ipynb",
   "parameters": {},
   "start_time": "2023-05-22T10:37:23.199685",
   "version": "2.4.0"
  }
 },
 "nbformat": 4,
 "nbformat_minor": 5
}